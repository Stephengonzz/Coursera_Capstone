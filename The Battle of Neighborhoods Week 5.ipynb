{
 "cells": [
  {
   "cell_type": "markdown",
   "metadata": {
    "collapsed": true
   },
   "source": [
    "# The Battle of Neighbourhoods"
   ]
  },
  {
   "cell_type": "markdown",
   "metadata": {},
   "source": [
    "## Table of Contents"
   ]
  },
  {
   "cell_type": "markdown",
   "metadata": {},
   "source": [
    "*This report is presented in the following parts as shown below:*\n",
    "\n",
    "1. Introduction  \n",
    "2. Data Used   \n",
    "3. Methodology  \n",
    "4. Result  \n",
    "5. Discussion and Conclusion"
   ]
  },
  {
   "cell_type": "markdown",
   "metadata": {},
   "source": [
    "## 1) Introduction"
   ]
  },
  {
   "cell_type": "markdown",
   "metadata": {},
   "source": [
    "### 1.a) Description of the Problem¶"
   ]
  },
  {
   "cell_type": "markdown",
   "metadata": {},
   "source": [
    "The population of London has grown considerably over the last decades. London is very diverse. It represents what is called the reflection of the old British Empire. \n",
    "In London, you can get fresh food supplies from Africa. One begins to wonder how efficient the supply mechanism is.\n",
    "\n",
    "The real deal is that as much as there are many fine restaurants in London – Asian, Middle Eastern, Latin and American restaurants, you can struggle to find good place to dine in the finest of West African cuisine that has combination of Nigerian, Ghanaian, Cameroonian, Senegalese and more."
   ]
  },
  {
   "cell_type": "markdown",
   "metadata": {},
   "source": [
    "### 1.b) Discussion of the Background"
   ]
  },
  {
   "cell_type": "markdown",
   "metadata": {},
   "source": [
    "My client, a successful restaurant chain in Africa is looking to expand operation into Europe through London. They want to create a high-end restaurant that comes with organic mix and healthy. Their target is not only West Africans, but they are pro-organic and healthy eating. To them every meal counts and counts as a royal when you eat.\n",
    "\n",
    "Since the London demography is so big, my client needs deeper insight from available data in other to decide where to establish the first Europe “palace” restaurant. This company spends a lot on research and provides customers with data insight into the ingredients used at restaurants."
   ]
  },
  {
   "cell_type": "markdown",
   "metadata": {},
   "source": [
    "### 1.3 Target Audience"
   ]
  },
  {
   "cell_type": "code",
   "execution_count": null,
   "metadata": {},
   "outputs": [],
   "source": [
    "Considering the diversity of London, there is a high multicultural sense. London is a place where different shades live. As such, in the search for an high-end African-inclined restaurant, there is a high shortage. The target audience is broad, it ranges from Londoners, tourists and those who are passionate about organic food."
   ]
  },
  {
   "cell_type": "markdown",
   "metadata": {},
   "source": [
    "## Data Used "
   ]
  },
  {
   "cell_type": "markdown",
   "metadata": {},
   "source": [
    "### 2.a) Description of Data"
   ]
  },
  {
   "cell_type": "markdown",
   "metadata": {},
   "source": [
    "This project will rely on public data from Wikipedia and Foursquare."
   ]
  },
  {
   "cell_type": "markdown",
   "metadata": {},
   "source": [
    "### 2.a.1) Description of Data"
   ]
  },
  {
   "cell_type": "markdown",
   "metadata": {},
   "source": [
    "In this project, London will be used as synonymous to the \"Greater London Area\" in this project. Within the Greater London Area, there are areas that are within the London Area Postcode. The focus of this project will be the nieghbourhoods are that are within the London Post Code area.\n",
    "\n",
    "The London Area consists of 32 Boroughs and the \"City of London\". Our data will be from the link - Greater London Area <https://en.wikipedia.org/wiki/List_of_areas_of_London >"
   ]
  },
  {
   "cell_type": "markdown",
   "metadata": {},
   "source": [
    "#### *The web scrapped of the Wikipedia page for the Greater London Area data is provided below:*"
   ]
  },
  {
   "cell_type": "code",
   "execution_count": 3,
   "metadata": {},
   "outputs": [
    {
     "name": "stdout",
     "output_type": "stream",
     "text": [
      "numpy, pandas, ..., imported...\n",
      "geopy installed...\n",
      "Nominatim imported...\n"
     ]
    }
   ],
   "source": [
    "from bs4 import BeautifulSoup\n",
    "\n",
    "# library to handle data in a vectorized manner\n",
    "import numpy as np\n",
    "\n",
    "# library for data analsysis\n",
    "import pandas as pd\n",
    "pd.set_option('display.max_columns', None)\n",
    "pd.set_option('display.max_rows', None)\n",
    "\n",
    "# library to handle JSON files\n",
    "import json\n",
    "print('numpy, pandas, ..., imported...')\n",
    "\n",
    "!pip -q install geopy\n",
    "# conda install -c conda-forge geopy --yes # uncomment this line if you haven't completed the Foursquare API lab\n",
    "print('geopy installed...')\n",
    "# convert an address into latitude and longitude values\n",
    "from geopy.geocoders import Nominatim\n",
    "print('Nominatim imported...')"
   ]
  },
  {
   "cell_type": "code",
   "execution_count": 4,
   "metadata": {},
   "outputs": [
    {
     "name": "stdout",
     "output_type": "stream",
     "text": [
      "requests imported...\n",
      "json_normalize imported...\n",
      "matplotlib imported...\n",
      "Kmeans imported...\n",
      "folium installed...\n",
      "folium imported...\n",
      "...Done\n"
     ]
    }
   ],
   "source": [
    "# library to handle requests\n",
    "import requests\n",
    "print('requests imported...')\n",
    "\n",
    "# tranform JSON file into a pandas dataframe\n",
    "from pandas.io.json import json_normalize\n",
    "print('json_normalize imported...')\n",
    "\n",
    "# Matplotlib and associated plotting modules\n",
    "import matplotlib.cm as cm\n",
    "import matplotlib.colors as colors\n",
    "print('matplotlib imported...')\n",
    "\n",
    "# import k-means from clustering stage\n",
    "from sklearn.cluster import KMeans\n",
    "print('Kmeans imported...')\n",
    "\n",
    "# install the Geocoder\n",
    "!pip -q install geocoder\n",
    "import geocoder\n",
    "\n",
    "# import time\n",
    "import time\n",
    "\n",
    "# !conda install -c conda-forge folium=0.5.0 --yes # uncomment this line if you haven't completed the Foursquare API lab\n",
    "!pip -q install folium\n",
    "print('folium installed...')\n",
    "import folium # map rendering library\n",
    "print('folium imported...')\n",
    "print('...Done')"
   ]
  },
  {
   "cell_type": "code",
   "execution_count": 5,
   "metadata": {},
   "outputs": [
    {
     "data": {
      "text/plain": [
       "<Response [200]>"
      ]
     },
     "execution_count": 5,
     "metadata": {},
     "output_type": "execute_result"
    }
   ],
   "source": [
    "wikipedia_link = 'https://en.wikipedia.org/wiki/List_of_areas_of_London'\n",
    "headers = {'User-Agent': 'Mozilla/5.0 (Windows NT 10.0; Win64; x64; rv:64.0) Gecko/20100101 Firefox/64.0'}\n",
    "wikipedia_page = requests.get(wikipedia_link, headers = headers)\n",
    "wikipedia_page"
   ]
  },
  {
   "cell_type": "code",
   "execution_count": 6,
   "metadata": {},
   "outputs": [],
   "source": [
    "# Cleans html file\n",
    "soup = BeautifulSoup(wikipedia_page.content, 'html.parser')\n",
    "# This extracts the \"tbody\" within the table where class is \"wikitable sortable\"\n",
    "table = soup.find('table', {'class':'wikitable sortable'}).tbody"
   ]
  },
  {
   "cell_type": "code",
   "execution_count": 7,
   "metadata": {},
   "outputs": [],
   "source": [
    "# Extracts all \"tr\" (table rows) within the table above\n",
    "rows = table.find_all('tr')"
   ]
  },
  {
   "cell_type": "code",
   "execution_count": 8,
   "metadata": {},
   "outputs": [],
   "source": [
    "# Extracts the column headers, removes and replaces possible '\\n' with space for the \"th\" tag\n",
    "columns = [i.text.replace('\\n', '')\n",
    "           for i in rows[0].find_all('th')]"
   ]
  },
  {
   "cell_type": "code",
   "execution_count": 9,
   "metadata": {},
   "outputs": [
    {
     "data": {
      "text/html": [
       "<div>\n",
       "<style scoped>\n",
       "    .dataframe tbody tr th:only-of-type {\n",
       "        vertical-align: middle;\n",
       "    }\n",
       "\n",
       "    .dataframe tbody tr th {\n",
       "        vertical-align: top;\n",
       "    }\n",
       "\n",
       "    .dataframe thead th {\n",
       "        text-align: right;\n",
       "    }\n",
       "</style>\n",
       "<table border=\"1\" class=\"dataframe\">\n",
       "  <thead>\n",
       "    <tr style=\"text-align: right;\">\n",
       "      <th></th>\n",
       "      <th>Location</th>\n",
       "      <th>London borough</th>\n",
       "      <th>Post town</th>\n",
       "      <th>Postcode district</th>\n",
       "      <th>Dial code</th>\n",
       "      <th>OS grid ref</th>\n",
       "    </tr>\n",
       "  </thead>\n",
       "  <tbody>\n",
       "  </tbody>\n",
       "</table>\n",
       "</div>"
      ],
      "text/plain": [
       "Empty DataFrame\n",
       "Columns: [Location, London borough, Post town, Postcode district, Dial code, OS grid ref]\n",
       "Index: []"
      ]
     },
     "execution_count": 9,
     "metadata": {},
     "output_type": "execute_result"
    }
   ],
   "source": [
    "# Converts columns to pd dataframe\n",
    "df = pd.DataFrame(columns = columns)\n",
    "df"
   ]
  },
  {
   "cell_type": "code",
   "execution_count": 10,
   "metadata": {},
   "outputs": [],
   "source": [
    "# Extracts every row with corresponding columns\n",
    "# Then appends the values to the create pd dataframe \"df\"\n",
    "# Please note that the first row (row[0]) is skipped because it is already the header\n",
    "for i in range(1, len(rows)):\n",
    "    tds = rows[i].find_all('td')\n",
    "    \n",
    "    \n",
    "    if len(tds) == 7:\n",
    "        values = [tds[0].text, tds[1].text, tds[2].text.replace('\\n', ''.replace('\\xa0','')), tds[3].text, tds[4].text.replace('\\n', ''.replace('\\xa0','')), tds[5].text.replace('\\n', ''.replace('\\xa0','')), tds[6].text.replace('\\n', ''.replace('\\xa0',''))]\n",
    "    else:\n",
    "        values = [td.text.replace('\\n', '').replace('\\xa0','') for td in tds]\n",
    "        \n",
    "        df = df.append(pd.Series(values, index = columns), ignore_index = True)\n",
    "\n",
    "        df"
   ]
  },
  {
   "cell_type": "code",
   "execution_count": 11,
   "metadata": {},
   "outputs": [
    {
     "data": {
      "text/html": [
       "<div>\n",
       "<style scoped>\n",
       "    .dataframe tbody tr th:only-of-type {\n",
       "        vertical-align: middle;\n",
       "    }\n",
       "\n",
       "    .dataframe tbody tr th {\n",
       "        vertical-align: top;\n",
       "    }\n",
       "\n",
       "    .dataframe thead th {\n",
       "        text-align: right;\n",
       "    }\n",
       "</style>\n",
       "<table border=\"1\" class=\"dataframe\">\n",
       "  <thead>\n",
       "    <tr style=\"text-align: right;\">\n",
       "      <th></th>\n",
       "      <th>Location</th>\n",
       "      <th>London borough</th>\n",
       "      <th>Post town</th>\n",
       "      <th>Postcode district</th>\n",
       "      <th>Dial code</th>\n",
       "      <th>OS grid ref</th>\n",
       "    </tr>\n",
       "  </thead>\n",
       "  <tbody>\n",
       "    <tr>\n",
       "      <th>0</th>\n",
       "      <td>Abbey Wood</td>\n",
       "      <td>Bexley,  Greenwich [7]</td>\n",
       "      <td>LONDON</td>\n",
       "      <td>SE2</td>\n",
       "      <td>020</td>\n",
       "      <td>TQ465785</td>\n",
       "    </tr>\n",
       "    <tr>\n",
       "      <th>1</th>\n",
       "      <td>Acton</td>\n",
       "      <td>Ealing, Hammersmith and Fulham[8]</td>\n",
       "      <td>LONDON</td>\n",
       "      <td>W3, W4</td>\n",
       "      <td>020</td>\n",
       "      <td>TQ205805</td>\n",
       "    </tr>\n",
       "    <tr>\n",
       "      <th>2</th>\n",
       "      <td>Addington</td>\n",
       "      <td>Croydon[8]</td>\n",
       "      <td>CROYDON</td>\n",
       "      <td>CR0</td>\n",
       "      <td>020</td>\n",
       "      <td>TQ375645</td>\n",
       "    </tr>\n",
       "    <tr>\n",
       "      <th>3</th>\n",
       "      <td>Addiscombe</td>\n",
       "      <td>Croydon[8]</td>\n",
       "      <td>CROYDON</td>\n",
       "      <td>CR0</td>\n",
       "      <td>020</td>\n",
       "      <td>TQ345665</td>\n",
       "    </tr>\n",
       "    <tr>\n",
       "      <th>4</th>\n",
       "      <td>Albany Park</td>\n",
       "      <td>Bexley</td>\n",
       "      <td>BEXLEY, SIDCUP</td>\n",
       "      <td>DA5, DA14</td>\n",
       "      <td>020</td>\n",
       "      <td>TQ478728</td>\n",
       "    </tr>\n",
       "  </tbody>\n",
       "</table>\n",
       "</div>"
      ],
      "text/plain": [
       "      Location                     London borough       Post town  \\\n",
       "0   Abbey Wood             Bexley,  Greenwich [7]          LONDON   \n",
       "1        Acton  Ealing, Hammersmith and Fulham[8]          LONDON   \n",
       "2    Addington                         Croydon[8]         CROYDON   \n",
       "3   Addiscombe                         Croydon[8]         CROYDON   \n",
       "4  Albany Park                             Bexley  BEXLEY, SIDCUP   \n",
       "\n",
       "  Postcode district Dial code OS grid ref  \n",
       "0               SE2       020    TQ465785  \n",
       "1            W3, W4       020    TQ205805  \n",
       "2               CR0       020    TQ375645  \n",
       "3               CR0       020    TQ345665  \n",
       "4         DA5, DA14       020    TQ478728  "
      ]
     },
     "execution_count": 11,
     "metadata": {},
     "output_type": "execute_result"
    }
   ],
   "source": [
    "df.head(5)"
   ]
  },
  {
   "cell_type": "code",
   "execution_count": 12,
   "metadata": {},
   "outputs": [],
   "source": [
    "df = df.rename(index=str, columns = {'Location': 'Location', 'London\\xa0borough': 'Borough', 'Post town': 'Post-town', 'Postcode\\xa0district': 'Postcode', 'Dial\\xa0code': 'Dial-code', 'OS grid ref': 'OSGridRef'})"
   ]
  },
  {
   "cell_type": "code",
   "execution_count": 14,
   "metadata": {},
   "outputs": [
    {
     "data": {
      "text/html": [
       "<div>\n",
       "<style scoped>\n",
       "    .dataframe tbody tr th:only-of-type {\n",
       "        vertical-align: middle;\n",
       "    }\n",
       "\n",
       "    .dataframe tbody tr th {\n",
       "        vertical-align: top;\n",
       "    }\n",
       "\n",
       "    .dataframe thead th {\n",
       "        text-align: right;\n",
       "    }\n",
       "</style>\n",
       "<table border=\"1\" class=\"dataframe\">\n",
       "  <thead>\n",
       "    <tr style=\"text-align: right;\">\n",
       "      <th></th>\n",
       "      <th>Location</th>\n",
       "      <th>Borough</th>\n",
       "      <th>Post-town</th>\n",
       "      <th>Postcode</th>\n",
       "      <th>Dial-code</th>\n",
       "      <th>OSGridRef</th>\n",
       "    </tr>\n",
       "  </thead>\n",
       "  <tbody>\n",
       "    <tr>\n",
       "      <th>0</th>\n",
       "      <td>Abbey Wood</td>\n",
       "      <td>Bexley,  Greenwich [7]</td>\n",
       "      <td>LONDON</td>\n",
       "      <td>SE2</td>\n",
       "      <td>020</td>\n",
       "      <td>TQ465785</td>\n",
       "    </tr>\n",
       "    <tr>\n",
       "      <th>1</th>\n",
       "      <td>Acton</td>\n",
       "      <td>Ealing, Hammersmith and Fulham[8]</td>\n",
       "      <td>LONDON</td>\n",
       "      <td>W3, W4</td>\n",
       "      <td>020</td>\n",
       "      <td>TQ205805</td>\n",
       "    </tr>\n",
       "    <tr>\n",
       "      <th>2</th>\n",
       "      <td>Addington</td>\n",
       "      <td>Croydon[8]</td>\n",
       "      <td>CROYDON</td>\n",
       "      <td>CR0</td>\n",
       "      <td>020</td>\n",
       "      <td>TQ375645</td>\n",
       "    </tr>\n",
       "    <tr>\n",
       "      <th>3</th>\n",
       "      <td>Addiscombe</td>\n",
       "      <td>Croydon[8]</td>\n",
       "      <td>CROYDON</td>\n",
       "      <td>CR0</td>\n",
       "      <td>020</td>\n",
       "      <td>TQ345665</td>\n",
       "    </tr>\n",
       "    <tr>\n",
       "      <th>4</th>\n",
       "      <td>Albany Park</td>\n",
       "      <td>Bexley</td>\n",
       "      <td>BEXLEY, SIDCUP</td>\n",
       "      <td>DA5, DA14</td>\n",
       "      <td>020</td>\n",
       "      <td>TQ478728</td>\n",
       "    </tr>\n",
       "  </tbody>\n",
       "</table>\n",
       "</div>"
      ],
      "text/plain": [
       "      Location                            Borough       Post-town   Postcode  \\\n",
       "0   Abbey Wood             Bexley,  Greenwich [7]          LONDON        SE2   \n",
       "1        Acton  Ealing, Hammersmith and Fulham[8]          LONDON     W3, W4   \n",
       "2    Addington                         Croydon[8]         CROYDON        CR0   \n",
       "3   Addiscombe                         Croydon[8]         CROYDON        CR0   \n",
       "4  Albany Park                             Bexley  BEXLEY, SIDCUP  DA5, DA14   \n",
       "\n",
       "  Dial-code OSGridRef  \n",
       "0       020  TQ465785  \n",
       "1       020  TQ205805  \n",
       "2       020  TQ375645  \n",
       "3       020  TQ345665  \n",
       "4       020  TQ478728  "
      ]
     },
     "execution_count": 14,
     "metadata": {},
     "output_type": "execute_result"
    }
   ],
   "source": [
    "df.head(5)"
   ]
  },
  {
   "cell_type": "code",
   "execution_count": 15,
   "metadata": {},
   "outputs": [],
   "source": [
    "df['Borough'] = df['Borough'].map(lambda x: x.rstrip(']').rstrip('0123456789').rstrip('['))"
   ]
  },
  {
   "cell_type": "code",
   "execution_count": 16,
   "metadata": {},
   "outputs": [
    {
     "data": {
      "text/plain": [
       "(533, 6)"
      ]
     },
     "execution_count": 16,
     "metadata": {},
     "output_type": "execute_result"
    }
   ],
   "source": [
    "df.shape"
   ]
  },
  {
   "cell_type": "code",
   "execution_count": 17,
   "metadata": {},
   "outputs": [
    {
     "data": {
      "text/html": [
       "<div>\n",
       "<style scoped>\n",
       "    .dataframe tbody tr th:only-of-type {\n",
       "        vertical-align: middle;\n",
       "    }\n",
       "\n",
       "    .dataframe tbody tr th {\n",
       "        vertical-align: top;\n",
       "    }\n",
       "\n",
       "    .dataframe thead th {\n",
       "        text-align: right;\n",
       "    }\n",
       "</style>\n",
       "<table border=\"1\" class=\"dataframe\">\n",
       "  <thead>\n",
       "    <tr style=\"text-align: right;\">\n",
       "      <th></th>\n",
       "      <th>Location</th>\n",
       "      <th>Borough</th>\n",
       "      <th>Post-town</th>\n",
       "      <th>Postcode</th>\n",
       "      <th>Dial-code</th>\n",
       "      <th>OSGridRef</th>\n",
       "    </tr>\n",
       "  </thead>\n",
       "  <tbody>\n",
       "    <tr>\n",
       "      <th>0</th>\n",
       "      <td>Abbey Wood</td>\n",
       "      <td>Bexley,  Greenwich</td>\n",
       "      <td>LONDON</td>\n",
       "      <td>SE2</td>\n",
       "      <td>020</td>\n",
       "      <td>TQ465785</td>\n",
       "    </tr>\n",
       "    <tr>\n",
       "      <th>1</th>\n",
       "      <td>Acton</td>\n",
       "      <td>Ealing, Hammersmith and Fulham</td>\n",
       "      <td>LONDON</td>\n",
       "      <td>W3, W4</td>\n",
       "      <td>020</td>\n",
       "      <td>TQ205805</td>\n",
       "    </tr>\n",
       "    <tr>\n",
       "      <th>2</th>\n",
       "      <td>Addington</td>\n",
       "      <td>Croydon</td>\n",
       "      <td>CROYDON</td>\n",
       "      <td>CR0</td>\n",
       "      <td>020</td>\n",
       "      <td>TQ375645</td>\n",
       "    </tr>\n",
       "    <tr>\n",
       "      <th>3</th>\n",
       "      <td>Addiscombe</td>\n",
       "      <td>Croydon</td>\n",
       "      <td>CROYDON</td>\n",
       "      <td>CR0</td>\n",
       "      <td>020</td>\n",
       "      <td>TQ345665</td>\n",
       "    </tr>\n",
       "    <tr>\n",
       "      <th>4</th>\n",
       "      <td>Albany Park</td>\n",
       "      <td>Bexley</td>\n",
       "      <td>BEXLEY, SIDCUP</td>\n",
       "      <td>DA5, DA14</td>\n",
       "      <td>020</td>\n",
       "      <td>TQ478728</td>\n",
       "    </tr>\n",
       "  </tbody>\n",
       "</table>\n",
       "</div>"
      ],
      "text/plain": [
       "      Location                         Borough       Post-town   Postcode  \\\n",
       "0   Abbey Wood             Bexley,  Greenwich           LONDON        SE2   \n",
       "1        Acton  Ealing, Hammersmith and Fulham          LONDON     W3, W4   \n",
       "2    Addington                         Croydon         CROYDON        CR0   \n",
       "3   Addiscombe                         Croydon         CROYDON        CR0   \n",
       "4  Albany Park                          Bexley  BEXLEY, SIDCUP  DA5, DA14   \n",
       "\n",
       "  Dial-code OSGridRef  \n",
       "0       020  TQ465785  \n",
       "1       020  TQ205805  \n",
       "2       020  TQ375645  \n",
       "3       020  TQ345665  \n",
       "4       020  TQ478728  "
      ]
     },
     "execution_count": 17,
     "metadata": {},
     "output_type": "execute_result"
    }
   ],
   "source": [
    "df.head(5)"
   ]
  },
  {
   "cell_type": "code",
   "execution_count": 18,
   "metadata": {},
   "outputs": [],
   "source": [
    "df0 = df.drop('Postcode', axis=1).join(df['Postcode'].str.split(',', expand=True).stack().reset_index(level=1, drop=True).rename('Postcode'))"
   ]
  },
  {
   "cell_type": "code",
   "execution_count": 19,
   "metadata": {},
   "outputs": [
    {
     "data": {
      "text/html": [
       "<div>\n",
       "<style scoped>\n",
       "    .dataframe tbody tr th:only-of-type {\n",
       "        vertical-align: middle;\n",
       "    }\n",
       "\n",
       "    .dataframe tbody tr th {\n",
       "        vertical-align: top;\n",
       "    }\n",
       "\n",
       "    .dataframe thead th {\n",
       "        text-align: right;\n",
       "    }\n",
       "</style>\n",
       "<table border=\"1\" class=\"dataframe\">\n",
       "  <thead>\n",
       "    <tr style=\"text-align: right;\">\n",
       "      <th></th>\n",
       "      <th>Location</th>\n",
       "      <th>Borough</th>\n",
       "      <th>Post-town</th>\n",
       "      <th>Dial-code</th>\n",
       "      <th>OSGridRef</th>\n",
       "      <th>Postcode</th>\n",
       "    </tr>\n",
       "  </thead>\n",
       "  <tbody>\n",
       "    <tr>\n",
       "      <th>0</th>\n",
       "      <td>Abbey Wood</td>\n",
       "      <td>Bexley,  Greenwich</td>\n",
       "      <td>LONDON</td>\n",
       "      <td>020</td>\n",
       "      <td>TQ465785</td>\n",
       "      <td>SE2</td>\n",
       "    </tr>\n",
       "    <tr>\n",
       "      <th>1</th>\n",
       "      <td>Acton</td>\n",
       "      <td>Ealing, Hammersmith and Fulham</td>\n",
       "      <td>LONDON</td>\n",
       "      <td>020</td>\n",
       "      <td>TQ205805</td>\n",
       "      <td>W3</td>\n",
       "    </tr>\n",
       "    <tr>\n",
       "      <th>1</th>\n",
       "      <td>Acton</td>\n",
       "      <td>Ealing, Hammersmith and Fulham</td>\n",
       "      <td>LONDON</td>\n",
       "      <td>020</td>\n",
       "      <td>TQ205805</td>\n",
       "      <td>W4</td>\n",
       "    </tr>\n",
       "    <tr>\n",
       "      <th>10</th>\n",
       "      <td>Angel</td>\n",
       "      <td>Islington</td>\n",
       "      <td>LONDON</td>\n",
       "      <td>020</td>\n",
       "      <td>TQ345665</td>\n",
       "      <td>EC1</td>\n",
       "    </tr>\n",
       "    <tr>\n",
       "      <th>10</th>\n",
       "      <td>Angel</td>\n",
       "      <td>Islington</td>\n",
       "      <td>LONDON</td>\n",
       "      <td>020</td>\n",
       "      <td>TQ345665</td>\n",
       "      <td>N1</td>\n",
       "    </tr>\n",
       "  </tbody>\n",
       "</table>\n",
       "</div>"
      ],
      "text/plain": [
       "      Location                         Borough Post-town Dial-code OSGridRef  \\\n",
       "0   Abbey Wood             Bexley,  Greenwich     LONDON       020  TQ465785   \n",
       "1        Acton  Ealing, Hammersmith and Fulham    LONDON       020  TQ205805   \n",
       "1        Acton  Ealing, Hammersmith and Fulham    LONDON       020  TQ205805   \n",
       "10       Angel                       Islington    LONDON       020  TQ345665   \n",
       "10       Angel                       Islington    LONDON       020  TQ345665   \n",
       "\n",
       "   Postcode  \n",
       "0       SE2  \n",
       "1        W3  \n",
       "1        W4  \n",
       "10      EC1  \n",
       "10       N1  "
      ]
     },
     "execution_count": 19,
     "metadata": {},
     "output_type": "execute_result"
    }
   ],
   "source": [
    "df0.head(5)"
   ]
  },
  {
   "cell_type": "code",
   "execution_count": 20,
   "metadata": {},
   "outputs": [
    {
     "data": {
      "text/plain": [
       "(637, 6)"
      ]
     },
     "execution_count": 20,
     "metadata": {},
     "output_type": "execute_result"
    }
   ],
   "source": [
    "df0.shape"
   ]
  },
  {
   "cell_type": "code",
   "execution_count": 21,
   "metadata": {},
   "outputs": [],
   "source": [
    "df1 = df0[['Location', 'Borough', 'Postcode', 'Post-town']].reset_index(drop=True)"
   ]
  },
  {
   "cell_type": "code",
   "execution_count": 22,
   "metadata": {},
   "outputs": [
    {
     "data": {
      "text/html": [
       "<div>\n",
       "<style scoped>\n",
       "    .dataframe tbody tr th:only-of-type {\n",
       "        vertical-align: middle;\n",
       "    }\n",
       "\n",
       "    .dataframe tbody tr th {\n",
       "        vertical-align: top;\n",
       "    }\n",
       "\n",
       "    .dataframe thead th {\n",
       "        text-align: right;\n",
       "    }\n",
       "</style>\n",
       "<table border=\"1\" class=\"dataframe\">\n",
       "  <thead>\n",
       "    <tr style=\"text-align: right;\">\n",
       "      <th></th>\n",
       "      <th>Location</th>\n",
       "      <th>Borough</th>\n",
       "      <th>Postcode</th>\n",
       "      <th>Post-town</th>\n",
       "    </tr>\n",
       "  </thead>\n",
       "  <tbody>\n",
       "    <tr>\n",
       "      <th>0</th>\n",
       "      <td>Abbey Wood</td>\n",
       "      <td>Bexley,  Greenwich</td>\n",
       "      <td>SE2</td>\n",
       "      <td>LONDON</td>\n",
       "    </tr>\n",
       "    <tr>\n",
       "      <th>1</th>\n",
       "      <td>Acton</td>\n",
       "      <td>Ealing, Hammersmith and Fulham</td>\n",
       "      <td>W3</td>\n",
       "      <td>LONDON</td>\n",
       "    </tr>\n",
       "    <tr>\n",
       "      <th>2</th>\n",
       "      <td>Acton</td>\n",
       "      <td>Ealing, Hammersmith and Fulham</td>\n",
       "      <td>W4</td>\n",
       "      <td>LONDON</td>\n",
       "    </tr>\n",
       "    <tr>\n",
       "      <th>3</th>\n",
       "      <td>Angel</td>\n",
       "      <td>Islington</td>\n",
       "      <td>EC1</td>\n",
       "      <td>LONDON</td>\n",
       "    </tr>\n",
       "    <tr>\n",
       "      <th>4</th>\n",
       "      <td>Angel</td>\n",
       "      <td>Islington</td>\n",
       "      <td>N1</td>\n",
       "      <td>LONDON</td>\n",
       "    </tr>\n",
       "  </tbody>\n",
       "</table>\n",
       "</div>"
      ],
      "text/plain": [
       "     Location                         Borough Postcode Post-town\n",
       "0  Abbey Wood             Bexley,  Greenwich       SE2    LONDON\n",
       "1       Acton  Ealing, Hammersmith and Fulham       W3    LONDON\n",
       "2       Acton  Ealing, Hammersmith and Fulham       W4    LONDON\n",
       "3       Angel                       Islington      EC1    LONDON\n",
       "4       Angel                       Islington       N1    LONDON"
      ]
     },
     "execution_count": 22,
     "metadata": {},
     "output_type": "execute_result"
    }
   ],
   "source": [
    "df1.head(5)"
   ]
  },
  {
   "cell_type": "code",
   "execution_count": 23,
   "metadata": {},
   "outputs": [
    {
     "data": {
      "text/plain": [
       "(637, 4)"
      ]
     },
     "execution_count": 23,
     "metadata": {},
     "output_type": "execute_result"
    }
   ],
   "source": [
    "df1.shape"
   ]
  },
  {
   "cell_type": "code",
   "execution_count": 24,
   "metadata": {},
   "outputs": [],
   "source": [
    "df2 = df1\n",
    "df21 = df2[df2['Post-town'].str.contains('LONDON')]"
   ]
  },
  {
   "cell_type": "code",
   "execution_count": 25,
   "metadata": {},
   "outputs": [
    {
     "data": {
      "text/plain": [
       "(381, 4)"
      ]
     },
     "execution_count": 25,
     "metadata": {},
     "output_type": "execute_result"
    }
   ],
   "source": [
    "df21.shape"
   ]
  },
  {
   "cell_type": "code",
   "execution_count": 26,
   "metadata": {},
   "outputs": [],
   "source": [
    "# Re-assigns the df21 to new dataframe without the Post-town\n",
    "df3 = df21[['Location', 'Borough', 'Postcode']].reset_index(drop=True)"
   ]
  },
  {
   "cell_type": "code",
   "execution_count": 27,
   "metadata": {},
   "outputs": [
    {
     "data": {
      "text/html": [
       "<div>\n",
       "<style scoped>\n",
       "    .dataframe tbody tr th:only-of-type {\n",
       "        vertical-align: middle;\n",
       "    }\n",
       "\n",
       "    .dataframe tbody tr th {\n",
       "        vertical-align: top;\n",
       "    }\n",
       "\n",
       "    .dataframe thead th {\n",
       "        text-align: right;\n",
       "    }\n",
       "</style>\n",
       "<table border=\"1\" class=\"dataframe\">\n",
       "  <thead>\n",
       "    <tr style=\"text-align: right;\">\n",
       "      <th></th>\n",
       "      <th>Location</th>\n",
       "      <th>Borough</th>\n",
       "      <th>Postcode</th>\n",
       "    </tr>\n",
       "  </thead>\n",
       "  <tbody>\n",
       "    <tr>\n",
       "      <th>0</th>\n",
       "      <td>Abbey Wood</td>\n",
       "      <td>Bexley,  Greenwich</td>\n",
       "      <td>SE2</td>\n",
       "    </tr>\n",
       "    <tr>\n",
       "      <th>1</th>\n",
       "      <td>Acton</td>\n",
       "      <td>Ealing, Hammersmith and Fulham</td>\n",
       "      <td>W3</td>\n",
       "    </tr>\n",
       "    <tr>\n",
       "      <th>2</th>\n",
       "      <td>Acton</td>\n",
       "      <td>Ealing, Hammersmith and Fulham</td>\n",
       "      <td>W4</td>\n",
       "    </tr>\n",
       "    <tr>\n",
       "      <th>3</th>\n",
       "      <td>Angel</td>\n",
       "      <td>Islington</td>\n",
       "      <td>EC1</td>\n",
       "    </tr>\n",
       "    <tr>\n",
       "      <th>4</th>\n",
       "      <td>Angel</td>\n",
       "      <td>Islington</td>\n",
       "      <td>N1</td>\n",
       "    </tr>\n",
       "    <tr>\n",
       "      <th>5</th>\n",
       "      <td>Church End</td>\n",
       "      <td>Brent</td>\n",
       "      <td>NW10</td>\n",
       "    </tr>\n",
       "    <tr>\n",
       "      <th>6</th>\n",
       "      <td>Church End</td>\n",
       "      <td>Barnet</td>\n",
       "      <td>N3</td>\n",
       "    </tr>\n",
       "    <tr>\n",
       "      <th>7</th>\n",
       "      <td>Clapham</td>\n",
       "      <td>Lambeth, Wandsworth</td>\n",
       "      <td>SW4</td>\n",
       "    </tr>\n",
       "    <tr>\n",
       "      <th>8</th>\n",
       "      <td>Clerkenwell</td>\n",
       "      <td>Islington</td>\n",
       "      <td>EC1</td>\n",
       "    </tr>\n",
       "    <tr>\n",
       "      <th>9</th>\n",
       "      <td>Colindale</td>\n",
       "      <td>Barnet</td>\n",
       "      <td>NW9</td>\n",
       "    </tr>\n",
       "  </tbody>\n",
       "</table>\n",
       "</div>"
      ],
      "text/plain": [
       "      Location                         Borough Postcode\n",
       "0   Abbey Wood             Bexley,  Greenwich       SE2\n",
       "1        Acton  Ealing, Hammersmith and Fulham       W3\n",
       "2        Acton  Ealing, Hammersmith and Fulham       W4\n",
       "3        Angel                       Islington      EC1\n",
       "4        Angel                       Islington       N1\n",
       "5   Church End                           Brent     NW10\n",
       "6   Church End                          Barnet       N3\n",
       "7      Clapham             Lambeth, Wandsworth      SW4\n",
       "8  Clerkenwell                       Islington      EC1\n",
       "9    Colindale                          Barnet      NW9"
      ]
     },
     "execution_count": 27,
     "metadata": {},
     "output_type": "execute_result"
    }
   ],
   "source": [
    "df3.head(10)"
   ]
  },
  {
   "cell_type": "code",
   "execution_count": 29,
   "metadata": {},
   "outputs": [],
   "source": [
    "df_london = df3\n",
    "df_london.to_csv('LondonLocations.csv', index = False)"
   ]
  },
  {
   "cell_type": "code",
   "execution_count": 30,
   "metadata": {},
   "outputs": [
    {
     "data": {
      "text/html": [
       "<div>\n",
       "<style scoped>\n",
       "    .dataframe tbody tr th:only-of-type {\n",
       "        vertical-align: middle;\n",
       "    }\n",
       "\n",
       "    .dataframe tbody tr th {\n",
       "        vertical-align: top;\n",
       "    }\n",
       "\n",
       "    .dataframe thead th {\n",
       "        text-align: right;\n",
       "    }\n",
       "</style>\n",
       "<table border=\"1\" class=\"dataframe\">\n",
       "  <thead>\n",
       "    <tr style=\"text-align: right;\">\n",
       "      <th></th>\n",
       "      <th>Location</th>\n",
       "      <th>Borough</th>\n",
       "      <th>Postcode</th>\n",
       "    </tr>\n",
       "  </thead>\n",
       "  <tbody>\n",
       "    <tr>\n",
       "      <th>0</th>\n",
       "      <td>Abbey Wood</td>\n",
       "      <td>Bexley,  Greenwich</td>\n",
       "      <td>SE2</td>\n",
       "    </tr>\n",
       "    <tr>\n",
       "      <th>1</th>\n",
       "      <td>Acton</td>\n",
       "      <td>Ealing, Hammersmith and Fulham</td>\n",
       "      <td>W3</td>\n",
       "    </tr>\n",
       "    <tr>\n",
       "      <th>2</th>\n",
       "      <td>Acton</td>\n",
       "      <td>Ealing, Hammersmith and Fulham</td>\n",
       "      <td>W4</td>\n",
       "    </tr>\n",
       "    <tr>\n",
       "      <th>3</th>\n",
       "      <td>Angel</td>\n",
       "      <td>Islington</td>\n",
       "      <td>EC1</td>\n",
       "    </tr>\n",
       "    <tr>\n",
       "      <th>4</th>\n",
       "      <td>Angel</td>\n",
       "      <td>Islington</td>\n",
       "      <td>N1</td>\n",
       "    </tr>\n",
       "  </tbody>\n",
       "</table>\n",
       "</div>"
      ],
      "text/plain": [
       "     Location                         Borough Postcode\n",
       "0  Abbey Wood             Bexley,  Greenwich       SE2\n",
       "1       Acton  Ealing, Hammersmith and Fulham       W3\n",
       "2       Acton  Ealing, Hammersmith and Fulham       W4\n",
       "3       Angel                       Islington      EC1\n",
       "4       Angel                       Islington       N1"
      ]
     },
     "execution_count": 30,
     "metadata": {},
     "output_type": "execute_result"
    }
   ],
   "source": [
    "df_london.head(5)"
   ]
  },
  {
   "cell_type": "code",
   "execution_count": 31,
   "metadata": {},
   "outputs": [],
   "source": [
    "# New dataframe for South East London postcodes - df_se\n",
    "df_se = df_london[df_london['Postcode'].str.startswith(('SE'))].reset_index(drop=True)"
   ]
  },
  {
   "cell_type": "code",
   "execution_count": 32,
   "metadata": {},
   "outputs": [
    {
     "data": {
      "text/html": [
       "<div>\n",
       "<style scoped>\n",
       "    .dataframe tbody tr th:only-of-type {\n",
       "        vertical-align: middle;\n",
       "    }\n",
       "\n",
       "    .dataframe tbody tr th {\n",
       "        vertical-align: top;\n",
       "    }\n",
       "\n",
       "    .dataframe thead th {\n",
       "        text-align: right;\n",
       "    }\n",
       "</style>\n",
       "<table border=\"1\" class=\"dataframe\">\n",
       "  <thead>\n",
       "    <tr style=\"text-align: right;\">\n",
       "      <th></th>\n",
       "      <th>Location</th>\n",
       "      <th>Borough</th>\n",
       "      <th>Postcode</th>\n",
       "    </tr>\n",
       "  </thead>\n",
       "  <tbody>\n",
       "    <tr>\n",
       "      <th>0</th>\n",
       "      <td>Abbey Wood</td>\n",
       "      <td>Bexley,  Greenwich</td>\n",
       "      <td>SE2</td>\n",
       "    </tr>\n",
       "    <tr>\n",
       "      <th>1</th>\n",
       "      <td>Crofton Park</td>\n",
       "      <td>Lewisham</td>\n",
       "      <td>SE4</td>\n",
       "    </tr>\n",
       "    <tr>\n",
       "      <th>2</th>\n",
       "      <td>Crossness</td>\n",
       "      <td>Bexley</td>\n",
       "      <td>SE2</td>\n",
       "    </tr>\n",
       "    <tr>\n",
       "      <th>3</th>\n",
       "      <td>Crystal Palace</td>\n",
       "      <td>Bromley</td>\n",
       "      <td>SE19</td>\n",
       "    </tr>\n",
       "    <tr>\n",
       "      <th>4</th>\n",
       "      <td>Denmark Hill</td>\n",
       "      <td>Southwark</td>\n",
       "      <td>SE5</td>\n",
       "    </tr>\n",
       "    <tr>\n",
       "      <th>5</th>\n",
       "      <td>Deptford</td>\n",
       "      <td>Lewisham</td>\n",
       "      <td>SE8</td>\n",
       "    </tr>\n",
       "    <tr>\n",
       "      <th>6</th>\n",
       "      <td>Dulwich</td>\n",
       "      <td>Southwark</td>\n",
       "      <td>SE21</td>\n",
       "    </tr>\n",
       "    <tr>\n",
       "      <th>7</th>\n",
       "      <td>East Dulwich</td>\n",
       "      <td>Southwark</td>\n",
       "      <td>SE22</td>\n",
       "    </tr>\n",
       "    <tr>\n",
       "      <th>8</th>\n",
       "      <td>Elephant and Castle</td>\n",
       "      <td>Southwark</td>\n",
       "      <td>SE1</td>\n",
       "    </tr>\n",
       "    <tr>\n",
       "      <th>9</th>\n",
       "      <td>Eltham</td>\n",
       "      <td>Greenwich</td>\n",
       "      <td>SE9</td>\n",
       "    </tr>\n",
       "  </tbody>\n",
       "</table>\n",
       "</div>"
      ],
      "text/plain": [
       "              Location              Borough Postcode\n",
       "0           Abbey Wood  Bexley,  Greenwich       SE2\n",
       "1         Crofton Park             Lewisham      SE4\n",
       "2            Crossness               Bexley      SE2\n",
       "3       Crystal Palace              Bromley     SE19\n",
       "4         Denmark Hill            Southwark      SE5\n",
       "5             Deptford             Lewisham      SE8\n",
       "6              Dulwich            Southwark     SE21\n",
       "7         East Dulwich            Southwark     SE22\n",
       "8  Elephant and Castle            Southwark      SE1\n",
       "9               Eltham            Greenwich      SE9"
      ]
     },
     "execution_count": 32,
     "metadata": {},
     "output_type": "execute_result"
    }
   ],
   "source": [
    "df_se.head(10)"
   ]
  },
  {
   "cell_type": "code",
   "execution_count": 33,
   "metadata": {},
   "outputs": [],
   "source": [
    "demograph_link = 'https://en.wikipedia.org/wiki/Demography_of_London'\n",
    "headers = {'User-Agent': 'Mozilla/5.0 (Windows NT 10.0; Win64; x64; rv:64.0) Gecko/20100101 Firefox/64.0'}\n",
    "demograph_page = requests.get(demograph_link, headers = headers)\n",
    "soup1 = BeautifulSoup(demograph_page.content, 'html.parser')\n",
    "table1 = soup1.find('table', {'class':'wikitable sortable'}).tbody\n",
    "rows1 = table1.find_all('tr')\n",
    "columns1 = [i.text.replace('\\n', '')\n",
    "           for i in rows1[0].find_all('th')]"
   ]
  },
  {
   "cell_type": "code",
   "execution_count": 34,
   "metadata": {},
   "outputs": [
    {
     "data": {
      "text/plain": [
       "['Local authority', 'White', 'Mixed', 'Asian', 'Black', 'Other']"
      ]
     },
     "execution_count": 34,
     "metadata": {},
     "output_type": "execute_result"
    }
   ],
   "source": [
    "columns1"
   ]
  },
  {
   "cell_type": "code",
   "execution_count": 35,
   "metadata": {},
   "outputs": [],
   "source": [
    "demo_london = pd.DataFrame(columns = columns1)"
   ]
  },
  {
   "cell_type": "code",
   "execution_count": 36,
   "metadata": {},
   "outputs": [
    {
     "data": {
      "text/html": [
       "<div>\n",
       "<style scoped>\n",
       "    .dataframe tbody tr th:only-of-type {\n",
       "        vertical-align: middle;\n",
       "    }\n",
       "\n",
       "    .dataframe tbody tr th {\n",
       "        vertical-align: top;\n",
       "    }\n",
       "\n",
       "    .dataframe thead th {\n",
       "        text-align: right;\n",
       "    }\n",
       "</style>\n",
       "<table border=\"1\" class=\"dataframe\">\n",
       "  <thead>\n",
       "    <tr style=\"text-align: right;\">\n",
       "      <th></th>\n",
       "      <th>Local authority</th>\n",
       "      <th>White</th>\n",
       "      <th>Mixed</th>\n",
       "      <th>Asian</th>\n",
       "      <th>Black</th>\n",
       "      <th>Other</th>\n",
       "    </tr>\n",
       "  </thead>\n",
       "  <tbody>\n",
       "  </tbody>\n",
       "</table>\n",
       "</div>"
      ],
      "text/plain": [
       "Empty DataFrame\n",
       "Columns: [Local authority, White, Mixed, Asian, Black, Other]\n",
       "Index: []"
      ]
     },
     "execution_count": 36,
     "metadata": {},
     "output_type": "execute_result"
    }
   ],
   "source": [
    "demo_london.head(5)"
   ]
  },
  {
   "cell_type": "code",
   "execution_count": 37,
   "metadata": {},
   "outputs": [],
   "source": [
    "demo_london['Black'] = demo_london['Black'].astype('float')"
   ]
  },
  {
   "cell_type": "code",
   "execution_count": 38,
   "metadata": {},
   "outputs": [],
   "source": [
    "demo_london_sorted = demo_london.sort_values(by='Black', ascending = False)"
   ]
  },
  {
   "cell_type": "code",
   "execution_count": 41,
   "metadata": {},
   "outputs": [
    {
     "data": {
      "text/html": [
       "<div>\n",
       "<style scoped>\n",
       "    .dataframe tbody tr th:only-of-type {\n",
       "        vertical-align: middle;\n",
       "    }\n",
       "\n",
       "    .dataframe tbody tr th {\n",
       "        vertical-align: top;\n",
       "    }\n",
       "\n",
       "    .dataframe thead th {\n",
       "        text-align: right;\n",
       "    }\n",
       "</style>\n",
       "<table border=\"1\" class=\"dataframe\">\n",
       "  <thead>\n",
       "    <tr style=\"text-align: right;\">\n",
       "      <th></th>\n",
       "      <th>Local authority</th>\n",
       "      <th>White</th>\n",
       "      <th>Mixed</th>\n",
       "      <th>Asian</th>\n",
       "      <th>Black</th>\n",
       "      <th>Other</th>\n",
       "    </tr>\n",
       "  </thead>\n",
       "  <tbody>\n",
       "  </tbody>\n",
       "</table>\n",
       "</div>"
      ],
      "text/plain": [
       "Empty DataFrame\n",
       "Columns: [Local authority, White, Mixed, Asian, Black, Other]\n",
       "Index: []"
      ]
     },
     "execution_count": 41,
     "metadata": {},
     "output_type": "execute_result"
    }
   ],
   "source": [
    "demo_london_sorted.head()"
   ]
  },
  {
   "cell_type": "code",
   "execution_count": 42,
   "metadata": {},
   "outputs": [
    {
     "data": {
      "text/html": [
       "<div>\n",
       "<style scoped>\n",
       "    .dataframe tbody tr th:only-of-type {\n",
       "        vertical-align: middle;\n",
       "    }\n",
       "\n",
       "    .dataframe tbody tr th {\n",
       "        vertical-align: top;\n",
       "    }\n",
       "\n",
       "    .dataframe thead th {\n",
       "        text-align: right;\n",
       "    }\n",
       "</style>\n",
       "<table border=\"1\" class=\"dataframe\">\n",
       "  <thead>\n",
       "    <tr style=\"text-align: right;\">\n",
       "      <th></th>\n",
       "      <th>Location</th>\n",
       "      <th>Borough</th>\n",
       "      <th>Postcode</th>\n",
       "    </tr>\n",
       "  </thead>\n",
       "  <tbody>\n",
       "    <tr>\n",
       "      <th>0</th>\n",
       "      <td>Abbey Wood</td>\n",
       "      <td>Bexley,  Greenwich</td>\n",
       "      <td>SE2</td>\n",
       "    </tr>\n",
       "    <tr>\n",
       "      <th>1</th>\n",
       "      <td>Crofton Park</td>\n",
       "      <td>Lewisham</td>\n",
       "      <td>SE4</td>\n",
       "    </tr>\n",
       "    <tr>\n",
       "      <th>2</th>\n",
       "      <td>Crossness</td>\n",
       "      <td>Bexley</td>\n",
       "      <td>SE2</td>\n",
       "    </tr>\n",
       "    <tr>\n",
       "      <th>3</th>\n",
       "      <td>Crystal Palace</td>\n",
       "      <td>Bromley</td>\n",
       "      <td>SE19</td>\n",
       "    </tr>\n",
       "    <tr>\n",
       "      <th>4</th>\n",
       "      <td>Denmark Hill</td>\n",
       "      <td>Southwark</td>\n",
       "      <td>SE5</td>\n",
       "    </tr>\n",
       "    <tr>\n",
       "      <th>5</th>\n",
       "      <td>Deptford</td>\n",
       "      <td>Lewisham</td>\n",
       "      <td>SE8</td>\n",
       "    </tr>\n",
       "    <tr>\n",
       "      <th>6</th>\n",
       "      <td>Dulwich</td>\n",
       "      <td>Southwark</td>\n",
       "      <td>SE21</td>\n",
       "    </tr>\n",
       "    <tr>\n",
       "      <th>7</th>\n",
       "      <td>East Dulwich</td>\n",
       "      <td>Southwark</td>\n",
       "      <td>SE22</td>\n",
       "    </tr>\n",
       "    <tr>\n",
       "      <th>8</th>\n",
       "      <td>Elephant and Castle</td>\n",
       "      <td>Southwark</td>\n",
       "      <td>SE1</td>\n",
       "    </tr>\n",
       "    <tr>\n",
       "      <th>9</th>\n",
       "      <td>Eltham</td>\n",
       "      <td>Greenwich</td>\n",
       "      <td>SE9</td>\n",
       "    </tr>\n",
       "    <tr>\n",
       "      <th>10</th>\n",
       "      <td>Falconwood</td>\n",
       "      <td>Bexley, Greenwich</td>\n",
       "      <td>SE9</td>\n",
       "    </tr>\n",
       "    <tr>\n",
       "      <th>11</th>\n",
       "      <td>Bankside</td>\n",
       "      <td>Southwark</td>\n",
       "      <td>SE1</td>\n",
       "    </tr>\n",
       "    <tr>\n",
       "      <th>12</th>\n",
       "      <td>Forest Hill</td>\n",
       "      <td>Lewisham</td>\n",
       "      <td>SE23</td>\n",
       "    </tr>\n",
       "    <tr>\n",
       "      <th>13</th>\n",
       "      <td>Gipsy Hill</td>\n",
       "      <td>Lambeth</td>\n",
       "      <td>SE19</td>\n",
       "    </tr>\n",
       "    <tr>\n",
       "      <th>14</th>\n",
       "      <td>Greenwich</td>\n",
       "      <td>Greenwich</td>\n",
       "      <td>SE10</td>\n",
       "    </tr>\n",
       "    <tr>\n",
       "      <th>15</th>\n",
       "      <td>Grove Park</td>\n",
       "      <td>Lewisham</td>\n",
       "      <td>SE12</td>\n",
       "    </tr>\n",
       "    <tr>\n",
       "      <th>16</th>\n",
       "      <td>Herne Hill</td>\n",
       "      <td>Lambeth</td>\n",
       "      <td>SE24</td>\n",
       "    </tr>\n",
       "    <tr>\n",
       "      <th>17</th>\n",
       "      <td>Hither Green</td>\n",
       "      <td>Lewisham</td>\n",
       "      <td>SE13</td>\n",
       "    </tr>\n",
       "    <tr>\n",
       "      <th>18</th>\n",
       "      <td>Honor Oak</td>\n",
       "      <td>Lewisham</td>\n",
       "      <td>SE23</td>\n",
       "    </tr>\n",
       "    <tr>\n",
       "      <th>19</th>\n",
       "      <td>Horn Park</td>\n",
       "      <td>Greenwich, Lewisham</td>\n",
       "      <td>SE12</td>\n",
       "    </tr>\n",
       "    <tr>\n",
       "      <th>20</th>\n",
       "      <td>Kennington</td>\n",
       "      <td>Lambeth, Southwark</td>\n",
       "      <td>SE11</td>\n",
       "    </tr>\n",
       "    <tr>\n",
       "      <th>21</th>\n",
       "      <td>Kidbrooke</td>\n",
       "      <td>Greenwich</td>\n",
       "      <td>SE3</td>\n",
       "    </tr>\n",
       "    <tr>\n",
       "      <th>22</th>\n",
       "      <td>Ladywell</td>\n",
       "      <td>Lewisham</td>\n",
       "      <td>SE4</td>\n",
       "    </tr>\n",
       "    <tr>\n",
       "      <th>23</th>\n",
       "      <td>Lambeth</td>\n",
       "      <td>Lambeth</td>\n",
       "      <td>SE1</td>\n",
       "    </tr>\n",
       "    <tr>\n",
       "      <th>24</th>\n",
       "      <td>Lee</td>\n",
       "      <td>Lewisham</td>\n",
       "      <td>SE12</td>\n",
       "    </tr>\n",
       "    <tr>\n",
       "      <th>25</th>\n",
       "      <td>Lewisham</td>\n",
       "      <td>Lewisham</td>\n",
       "      <td>SE13</td>\n",
       "    </tr>\n",
       "    <tr>\n",
       "      <th>26</th>\n",
       "      <td>Longlands</td>\n",
       "      <td>Bexley</td>\n",
       "      <td>SE9</td>\n",
       "    </tr>\n",
       "    <tr>\n",
       "      <th>27</th>\n",
       "      <td>Maze Hill</td>\n",
       "      <td>Greenwich</td>\n",
       "      <td>SE10</td>\n",
       "    </tr>\n",
       "    <tr>\n",
       "      <th>28</th>\n",
       "      <td>Middle Park</td>\n",
       "      <td>Greenwich</td>\n",
       "      <td>SE9</td>\n",
       "    </tr>\n",
       "    <tr>\n",
       "      <th>29</th>\n",
       "      <td>Mottingham</td>\n",
       "      <td>Bromley</td>\n",
       "      <td>SE9</td>\n",
       "    </tr>\n",
       "    <tr>\n",
       "      <th>30</th>\n",
       "      <td>New Cross</td>\n",
       "      <td>Lewisham</td>\n",
       "      <td>SE14</td>\n",
       "    </tr>\n",
       "    <tr>\n",
       "      <th>31</th>\n",
       "      <td>New Eltham</td>\n",
       "      <td>Greenwich</td>\n",
       "      <td>SE9</td>\n",
       "    </tr>\n",
       "    <tr>\n",
       "      <th>32</th>\n",
       "      <td>Newington</td>\n",
       "      <td>Southwark</td>\n",
       "      <td>SE1</td>\n",
       "    </tr>\n",
       "    <tr>\n",
       "      <th>33</th>\n",
       "      <td>Nunhead</td>\n",
       "      <td>Southwark</td>\n",
       "      <td>SE15</td>\n",
       "    </tr>\n",
       "    <tr>\n",
       "      <th>34</th>\n",
       "      <td>Bellingham</td>\n",
       "      <td>Lewisham</td>\n",
       "      <td>SE6</td>\n",
       "    </tr>\n",
       "    <tr>\n",
       "      <th>35</th>\n",
       "      <td>Peckham</td>\n",
       "      <td>Southwark</td>\n",
       "      <td>SE15</td>\n",
       "    </tr>\n",
       "    <tr>\n",
       "      <th>36</th>\n",
       "      <td>Penge</td>\n",
       "      <td>Bromley</td>\n",
       "      <td>SE20</td>\n",
       "    </tr>\n",
       "    <tr>\n",
       "      <th>37</th>\n",
       "      <td>Plumstead</td>\n",
       "      <td>Greenwich</td>\n",
       "      <td>SE18</td>\n",
       "    </tr>\n",
       "    <tr>\n",
       "      <th>38</th>\n",
       "      <td>Rotherhithe</td>\n",
       "      <td>Southwark</td>\n",
       "      <td>SE16</td>\n",
       "    </tr>\n",
       "    <tr>\n",
       "      <th>39</th>\n",
       "      <td>Selhurst</td>\n",
       "      <td>Croydon</td>\n",
       "      <td>SE25</td>\n",
       "    </tr>\n",
       "    <tr>\n",
       "      <th>40</th>\n",
       "      <td>Shooter's Hill</td>\n",
       "      <td>Greenwich</td>\n",
       "      <td>SE18</td>\n",
       "    </tr>\n",
       "    <tr>\n",
       "      <th>41</th>\n",
       "      <td>Bermondsey</td>\n",
       "      <td>Southwark</td>\n",
       "      <td>SE1</td>\n",
       "    </tr>\n",
       "    <tr>\n",
       "      <th>42</th>\n",
       "      <td>South Norwood</td>\n",
       "      <td>Croydon</td>\n",
       "      <td>SE25</td>\n",
       "    </tr>\n",
       "    <tr>\n",
       "      <th>43</th>\n",
       "      <td>Southend</td>\n",
       "      <td>Lewisham</td>\n",
       "      <td>SE6</td>\n",
       "    </tr>\n",
       "    <tr>\n",
       "      <th>44</th>\n",
       "      <td>St Johns</td>\n",
       "      <td>Lewisham</td>\n",
       "      <td>SE4</td>\n",
       "    </tr>\n",
       "    <tr>\n",
       "      <th>45</th>\n",
       "      <td>Surrey Quays</td>\n",
       "      <td>Southwark</td>\n",
       "      <td>SE16</td>\n",
       "    </tr>\n",
       "    <tr>\n",
       "      <th>46</th>\n",
       "      <td>Sydenham (also Lower Sydenham, Upper Sydenham)</td>\n",
       "      <td>Lewisham, Bromley</td>\n",
       "      <td>SE26</td>\n",
       "    </tr>\n",
       "    <tr>\n",
       "      <th>47</th>\n",
       "      <td>Sydenham Hill</td>\n",
       "      <td>Lewisham, Southwark</td>\n",
       "      <td>SE21</td>\n",
       "    </tr>\n",
       "    <tr>\n",
       "      <th>48</th>\n",
       "      <td>Thamesmead</td>\n",
       "      <td>Bexley, Greenwich</td>\n",
       "      <td>SE28</td>\n",
       "    </tr>\n",
       "    <tr>\n",
       "      <th>49</th>\n",
       "      <td>Tulse Hill</td>\n",
       "      <td>Lambeth</td>\n",
       "      <td>SE24</td>\n",
       "    </tr>\n",
       "    <tr>\n",
       "      <th>50</th>\n",
       "      <td>Upper Norwood</td>\n",
       "      <td>Croydon</td>\n",
       "      <td>SE19</td>\n",
       "    </tr>\n",
       "    <tr>\n",
       "      <th>51</th>\n",
       "      <td>Walworth</td>\n",
       "      <td>Southwark</td>\n",
       "      <td>SE17</td>\n",
       "    </tr>\n",
       "    <tr>\n",
       "      <th>52</th>\n",
       "      <td>Well Hall</td>\n",
       "      <td>Greenwich</td>\n",
       "      <td>SE9</td>\n",
       "    </tr>\n",
       "    <tr>\n",
       "      <th>53</th>\n",
       "      <td>Blackheath</td>\n",
       "      <td>Lewisham</td>\n",
       "      <td>SE3</td>\n",
       "    </tr>\n",
       "    <tr>\n",
       "      <th>54</th>\n",
       "      <td>West Heath</td>\n",
       "      <td>Bexley</td>\n",
       "      <td>SE2</td>\n",
       "    </tr>\n",
       "    <tr>\n",
       "      <th>55</th>\n",
       "      <td>Blackheath Royal Standard</td>\n",
       "      <td>Greenwich</td>\n",
       "      <td>SE3</td>\n",
       "    </tr>\n",
       "    <tr>\n",
       "      <th>56</th>\n",
       "      <td>West Norwood</td>\n",
       "      <td>Lambeth</td>\n",
       "      <td>SE27</td>\n",
       "    </tr>\n",
       "    <tr>\n",
       "      <th>57</th>\n",
       "      <td>Westcombe Park</td>\n",
       "      <td>Greenwich</td>\n",
       "      <td>SE3</td>\n",
       "    </tr>\n",
       "    <tr>\n",
       "      <th>58</th>\n",
       "      <td>Woolwich</td>\n",
       "      <td>Greenwich</td>\n",
       "      <td>SE18</td>\n",
       "    </tr>\n",
       "    <tr>\n",
       "      <th>59</th>\n",
       "      <td>Brockley</td>\n",
       "      <td>Lewisham</td>\n",
       "      <td>SE4</td>\n",
       "    </tr>\n",
       "    <tr>\n",
       "      <th>60</th>\n",
       "      <td>Camberwell</td>\n",
       "      <td>Southwark</td>\n",
       "      <td>SE5</td>\n",
       "    </tr>\n",
       "    <tr>\n",
       "      <th>61</th>\n",
       "      <td>Catford</td>\n",
       "      <td>Lewisham</td>\n",
       "      <td>SE6</td>\n",
       "    </tr>\n",
       "    <tr>\n",
       "      <th>62</th>\n",
       "      <td>Charlton</td>\n",
       "      <td>Greenwich</td>\n",
       "      <td>SE7</td>\n",
       "    </tr>\n",
       "    <tr>\n",
       "      <th>63</th>\n",
       "      <td>Anerley</td>\n",
       "      <td>Bromley</td>\n",
       "      <td>SE20</td>\n",
       "    </tr>\n",
       "    <tr>\n",
       "      <th>64</th>\n",
       "      <td>Chinbrook</td>\n",
       "      <td>Lewisham</td>\n",
       "      <td>SE12</td>\n",
       "    </tr>\n",
       "  </tbody>\n",
       "</table>\n",
       "</div>"
      ],
      "text/plain": [
       "                                          Location              Borough  \\\n",
       "0                                       Abbey Wood  Bexley,  Greenwich    \n",
       "1                                     Crofton Park             Lewisham   \n",
       "2                                        Crossness               Bexley   \n",
       "3                                   Crystal Palace              Bromley   \n",
       "4                                     Denmark Hill            Southwark   \n",
       "5                                         Deptford             Lewisham   \n",
       "6                                          Dulwich            Southwark   \n",
       "7                                     East Dulwich            Southwark   \n",
       "8                              Elephant and Castle            Southwark   \n",
       "9                                           Eltham            Greenwich   \n",
       "10                                      Falconwood    Bexley, Greenwich   \n",
       "11                                        Bankside            Southwark   \n",
       "12                                     Forest Hill             Lewisham   \n",
       "13                                      Gipsy Hill              Lambeth   \n",
       "14                                       Greenwich            Greenwich   \n",
       "15                                      Grove Park             Lewisham   \n",
       "16                                      Herne Hill              Lambeth   \n",
       "17                                    Hither Green             Lewisham   \n",
       "18                                       Honor Oak             Lewisham   \n",
       "19                                       Horn Park  Greenwich, Lewisham   \n",
       "20                                      Kennington   Lambeth, Southwark   \n",
       "21                                       Kidbrooke            Greenwich   \n",
       "22                                        Ladywell             Lewisham   \n",
       "23                                         Lambeth              Lambeth   \n",
       "24                                             Lee             Lewisham   \n",
       "25                                        Lewisham             Lewisham   \n",
       "26                                       Longlands               Bexley   \n",
       "27                                       Maze Hill            Greenwich   \n",
       "28                                     Middle Park            Greenwich   \n",
       "29                                      Mottingham              Bromley   \n",
       "30                                       New Cross             Lewisham   \n",
       "31                                      New Eltham            Greenwich   \n",
       "32                                       Newington            Southwark   \n",
       "33                                         Nunhead            Southwark   \n",
       "34                                      Bellingham             Lewisham   \n",
       "35                                         Peckham            Southwark   \n",
       "36                                           Penge              Bromley   \n",
       "37                                       Plumstead            Greenwich   \n",
       "38                                     Rotherhithe            Southwark   \n",
       "39                                        Selhurst              Croydon   \n",
       "40                                  Shooter's Hill            Greenwich   \n",
       "41                                      Bermondsey            Southwark   \n",
       "42                                   South Norwood              Croydon   \n",
       "43                                        Southend             Lewisham   \n",
       "44                                        St Johns             Lewisham   \n",
       "45                                    Surrey Quays            Southwark   \n",
       "46  Sydenham (also Lower Sydenham, Upper Sydenham)    Lewisham, Bromley   \n",
       "47                                   Sydenham Hill  Lewisham, Southwark   \n",
       "48                                      Thamesmead    Bexley, Greenwich   \n",
       "49                                      Tulse Hill              Lambeth   \n",
       "50                                   Upper Norwood              Croydon   \n",
       "51                                        Walworth            Southwark   \n",
       "52                                       Well Hall            Greenwich   \n",
       "53                                      Blackheath             Lewisham   \n",
       "54                                      West Heath               Bexley   \n",
       "55                       Blackheath Royal Standard            Greenwich   \n",
       "56                                    West Norwood              Lambeth   \n",
       "57                                  Westcombe Park            Greenwich   \n",
       "58                                        Woolwich            Greenwich   \n",
       "59                                        Brockley             Lewisham   \n",
       "60                                      Camberwell            Southwark   \n",
       "61                                         Catford             Lewisham   \n",
       "62                                        Charlton            Greenwich   \n",
       "63                                         Anerley              Bromley   \n",
       "64                                       Chinbrook             Lewisham   \n",
       "\n",
       "   Postcode  \n",
       "0       SE2  \n",
       "1       SE4  \n",
       "2       SE2  \n",
       "3      SE19  \n",
       "4       SE5  \n",
       "5       SE8  \n",
       "6      SE21  \n",
       "7      SE22  \n",
       "8       SE1  \n",
       "9       SE9  \n",
       "10      SE9  \n",
       "11      SE1  \n",
       "12     SE23  \n",
       "13     SE19  \n",
       "14     SE10  \n",
       "15     SE12  \n",
       "16     SE24  \n",
       "17     SE13  \n",
       "18     SE23  \n",
       "19     SE12  \n",
       "20     SE11  \n",
       "21      SE3  \n",
       "22      SE4  \n",
       "23      SE1  \n",
       "24     SE12  \n",
       "25     SE13  \n",
       "26      SE9  \n",
       "27     SE10  \n",
       "28      SE9  \n",
       "29      SE9  \n",
       "30     SE14  \n",
       "31      SE9  \n",
       "32      SE1  \n",
       "33     SE15  \n",
       "34      SE6  \n",
       "35     SE15  \n",
       "36     SE20  \n",
       "37     SE18  \n",
       "38     SE16  \n",
       "39     SE25  \n",
       "40     SE18  \n",
       "41      SE1  \n",
       "42     SE25  \n",
       "43      SE6  \n",
       "44      SE4  \n",
       "45     SE16  \n",
       "46     SE26  \n",
       "47     SE21  \n",
       "48     SE28  \n",
       "49     SE24  \n",
       "50     SE19  \n",
       "51     SE17  \n",
       "52      SE9  \n",
       "53      SE3  \n",
       "54      SE2  \n",
       "55      SE3  \n",
       "56     SE27  \n",
       "57      SE3  \n",
       "58     SE18  \n",
       "59      SE4  \n",
       "60      SE5  \n",
       "61      SE6  \n",
       "62      SE7  \n",
       "63     SE20  \n",
       "64     SE12  "
      ]
     },
     "execution_count": 42,
     "metadata": {},
     "output_type": "execute_result"
    }
   ],
   "source": [
    "df_se"
   ]
  },
  {
   "cell_type": "code",
   "execution_count": 43,
   "metadata": {},
   "outputs": [],
   "source": [
    "df_se_top = df_se[df_se['Borough'].isin(['Lewisham', 'Southwark', 'Lambeth', 'Hackney', 'Croydon'])].reset_index(drop=True)"
   ]
  },
  {
   "cell_type": "code",
   "execution_count": 44,
   "metadata": {},
   "outputs": [
    {
     "data": {
      "text/html": [
       "<div>\n",
       "<style scoped>\n",
       "    .dataframe tbody tr th:only-of-type {\n",
       "        vertical-align: middle;\n",
       "    }\n",
       "\n",
       "    .dataframe tbody tr th {\n",
       "        vertical-align: top;\n",
       "    }\n",
       "\n",
       "    .dataframe thead th {\n",
       "        text-align: right;\n",
       "    }\n",
       "</style>\n",
       "<table border=\"1\" class=\"dataframe\">\n",
       "  <thead>\n",
       "    <tr style=\"text-align: right;\">\n",
       "      <th></th>\n",
       "      <th>Location</th>\n",
       "      <th>Borough</th>\n",
       "      <th>Postcode</th>\n",
       "    </tr>\n",
       "  </thead>\n",
       "  <tbody>\n",
       "    <tr>\n",
       "      <th>0</th>\n",
       "      <td>Crofton Park</td>\n",
       "      <td>Lewisham</td>\n",
       "      <td>SE4</td>\n",
       "    </tr>\n",
       "    <tr>\n",
       "      <th>1</th>\n",
       "      <td>Denmark Hill</td>\n",
       "      <td>Southwark</td>\n",
       "      <td>SE5</td>\n",
       "    </tr>\n",
       "    <tr>\n",
       "      <th>2</th>\n",
       "      <td>Deptford</td>\n",
       "      <td>Lewisham</td>\n",
       "      <td>SE8</td>\n",
       "    </tr>\n",
       "    <tr>\n",
       "      <th>3</th>\n",
       "      <td>Dulwich</td>\n",
       "      <td>Southwark</td>\n",
       "      <td>SE21</td>\n",
       "    </tr>\n",
       "    <tr>\n",
       "      <th>4</th>\n",
       "      <td>East Dulwich</td>\n",
       "      <td>Southwark</td>\n",
       "      <td>SE22</td>\n",
       "    </tr>\n",
       "  </tbody>\n",
       "</table>\n",
       "</div>"
      ],
      "text/plain": [
       "       Location    Borough Postcode\n",
       "0  Crofton Park   Lewisham      SE4\n",
       "1  Denmark Hill  Southwark      SE5\n",
       "2      Deptford   Lewisham      SE8\n",
       "3       Dulwich  Southwark     SE21\n",
       "4  East Dulwich  Southwark     SE22"
      ]
     },
     "execution_count": 44,
     "metadata": {},
     "output_type": "execute_result"
    }
   ],
   "source": [
    "df_se_top.head(5)"
   ]
  },
  {
   "cell_type": "code",
   "execution_count": 45,
   "metadata": {},
   "outputs": [
    {
     "data": {
      "text/plain": [
       "(38, 3)"
      ]
     },
     "execution_count": 45,
     "metadata": {},
     "output_type": "execute_result"
    }
   ],
   "source": [
    "df_se_top.shape"
   ]
  },
  {
   "cell_type": "code",
   "execution_count": 46,
   "metadata": {},
   "outputs": [
    {
     "data": {
      "text/plain": [
       "(65, 3)"
      ]
     },
     "execution_count": 46,
     "metadata": {},
     "output_type": "execute_result"
    }
   ],
   "source": [
    "df_se.shape"
   ]
  },
  {
   "cell_type": "code",
   "execution_count": 47,
   "metadata": {},
   "outputs": [],
   "source": [
    "# Defining a function to use --> get_latlng()'''\n",
    "def get_latlng(arcgis_geocoder):\n",
    "    \n",
    "    # Initialize the Location (lat. and long.) to \"None\"\n",
    "    lat_lng_coords = None\n",
    "    \n",
    "    # While loop helps to create a continous run until all the location coordinates are geocoded\n",
    "    while(lat_lng_coords is None):\n",
    "        g = geocoder.arcgis('{}, London, United Kingdom'.format(arcgis_geocoder))\n",
    "        lat_lng_coords = g.latlng\n",
    "    return lat_lng_coords\n",
    "# Geocoder ends here"
   ]
  },
  {
   "cell_type": "code",
   "execution_count": 48,
   "metadata": {},
   "outputs": [
    {
     "data": {
      "text/plain": [
       "[51.492450000000076, 0.12127000000003818]"
      ]
     },
     "execution_count": 48,
     "metadata": {},
     "output_type": "execute_result"
    }
   ],
   "source": [
    "sample = get_latlng('SE2')\n",
    "sample"
   ]
  },
  {
   "cell_type": "code",
   "execution_count": 54,
   "metadata": {},
   "outputs": [
    {
     "data": {
      "text/plain": [
       "<[OK] Geocodefarm - Reverse [Harrow Manor Way, London, SE2 9SW, United Kingdom]>"
      ]
     },
     "execution_count": 54,
     "metadata": {},
     "output_type": "execute_result"
    }
   ],
   "source": [
    "gg = geocoder.geocodefarm(sample, method = 'reverse')\n",
    "gg"
   ]
  },
  {
   "cell_type": "code",
   "execution_count": 58,
   "metadata": {},
   "outputs": [
    {
     "name": "stdout",
     "output_type": "stream",
     "text": [
      "Time of execution 19.621439456939697 seconds\n"
     ]
    }
   ],
   "source": [
    "start = time.time()\n",
    "\n",
    "postal_codes = df_se_top['Postcode']    \n",
    "coordinates = [get_latlng(postal_code) for postal_code in postal_codes.tolist()]\n",
    "\n",
    "end = time.time()\n",
    "print(\"Time of execution\", end - start, \"seconds\")"
   ]
  },
  {
   "cell_type": "code",
   "execution_count": 61,
   "metadata": {},
   "outputs": [],
   "source": [
    "df_se_loc = df_se_top\n",
    "\n",
    "# The obtained coordinates (latitude and longitude) are joined with the dataframe as shown\n",
    "df_se_coordinates = pd.DataFrame(coordinates, columns = ['Latitude', 'Longitude'])\n",
    "df_se_loc['Latitude'] = df_se_coordinates['Latitude']\n",
    "df_se_loc['Longitude'] = df_se_coordinates['Longitude']"
   ]
  },
  {
   "cell_type": "code",
   "execution_count": 62,
   "metadata": {},
   "outputs": [
    {
     "data": {
      "text/html": [
       "<div>\n",
       "<style scoped>\n",
       "    .dataframe tbody tr th:only-of-type {\n",
       "        vertical-align: middle;\n",
       "    }\n",
       "\n",
       "    .dataframe tbody tr th {\n",
       "        vertical-align: top;\n",
       "    }\n",
       "\n",
       "    .dataframe thead th {\n",
       "        text-align: right;\n",
       "    }\n",
       "</style>\n",
       "<table border=\"1\" class=\"dataframe\">\n",
       "  <thead>\n",
       "    <tr style=\"text-align: right;\">\n",
       "      <th></th>\n",
       "      <th>Location</th>\n",
       "      <th>Borough</th>\n",
       "      <th>Postcode</th>\n",
       "      <th>Latitude</th>\n",
       "      <th>Longitude</th>\n",
       "    </tr>\n",
       "  </thead>\n",
       "  <tbody>\n",
       "    <tr>\n",
       "      <th>0</th>\n",
       "      <td>Crofton Park</td>\n",
       "      <td>Lewisham</td>\n",
       "      <td>SE4</td>\n",
       "      <td>51.46268</td>\n",
       "      <td>-0.03558</td>\n",
       "    </tr>\n",
       "    <tr>\n",
       "      <th>1</th>\n",
       "      <td>Denmark Hill</td>\n",
       "      <td>Southwark</td>\n",
       "      <td>SE5</td>\n",
       "      <td>51.47480</td>\n",
       "      <td>-0.09313</td>\n",
       "    </tr>\n",
       "    <tr>\n",
       "      <th>2</th>\n",
       "      <td>Deptford</td>\n",
       "      <td>Lewisham</td>\n",
       "      <td>SE8</td>\n",
       "      <td>51.48114</td>\n",
       "      <td>-0.02467</td>\n",
       "    </tr>\n",
       "    <tr>\n",
       "      <th>3</th>\n",
       "      <td>Dulwich</td>\n",
       "      <td>Southwark</td>\n",
       "      <td>SE21</td>\n",
       "      <td>51.44100</td>\n",
       "      <td>-0.08897</td>\n",
       "    </tr>\n",
       "    <tr>\n",
       "      <th>4</th>\n",
       "      <td>East Dulwich</td>\n",
       "      <td>Southwark</td>\n",
       "      <td>SE22</td>\n",
       "      <td>51.45256</td>\n",
       "      <td>-0.07076</td>\n",
       "    </tr>\n",
       "  </tbody>\n",
       "</table>\n",
       "</div>"
      ],
      "text/plain": [
       "       Location    Borough Postcode  Latitude  Longitude\n",
       "0  Crofton Park   Lewisham      SE4  51.46268   -0.03558\n",
       "1  Denmark Hill  Southwark      SE5  51.47480   -0.09313\n",
       "2      Deptford   Lewisham      SE8  51.48114   -0.02467\n",
       "3       Dulwich  Southwark     SE21  51.44100   -0.08897\n",
       "4  East Dulwich  Southwark     SE22  51.45256   -0.07076"
      ]
     },
     "execution_count": 62,
     "metadata": {},
     "output_type": "execute_result"
    }
   ],
   "source": [
    "df_se_loc.head(5)"
   ]
  },
  {
   "cell_type": "code",
   "execution_count": 63,
   "metadata": {},
   "outputs": [],
   "source": [
    "df_se_loc.to_csv('SELondonLocationsCoordinates.csv', index = False)"
   ]
  },
  {
   "cell_type": "code",
   "execution_count": 64,
   "metadata": {},
   "outputs": [
    {
     "data": {
      "text/plain": [
       "(38, 5)"
      ]
     },
     "execution_count": 64,
     "metadata": {},
     "output_type": "execute_result"
    }
   ],
   "source": [
    "df_se_loc.shape"
   ]
  },
  {
   "cell_type": "markdown",
   "metadata": {},
   "source": [
    "The Foursquare API will be used to obtain the South East London Area venues for the geographical location data . These will be used to explore the neighbourhoods of London acordingly.\n",
    "\n",
    "The venues within the neighbourhoods of South East London like the areas's restaurants and proximity to amenities would be correlated. Also, accessibility and ease of supplies would be considered as it relates to venues.\n",
    "\n",
    "To use the Foursquare API, we define the Foursquare Credentials and Version as shown below:\n",
    "\n",
    "Please note that due to privacy, the personal Foursquare Credential has been stored in a .json <fsquarecredential.json> and called appropriately as shown below"
   ]
  },
  {
   "cell_type": "markdown",
   "metadata": {},
   "source": [
    "## 3. Methodology"
   ]
  },
  {
   "cell_type": "markdown",
   "metadata": {},
   "source": [
    "### 3.a) Data Exploration"
   ]
  },
  {
   "cell_type": "markdown",
   "metadata": {},
   "source": [
    "#### 3.a.1) Single Neighbourhood"
   ]
  },
  {
   "cell_type": "markdown",
   "metadata": {},
   "source": [
    "An initial exploration of a single Neighbourhood within the London area was done to examine the Foursquare workability. The Lewisham Borough postcode SE13 and Location - Lewisham is used for this."
   ]
  },
  {
   "cell_type": "code",
   "execution_count": 66,
   "metadata": {},
   "outputs": [],
   "source": [
    "# Resets the current index to a new\n",
    "se_df = df_se_loc.reset_index().drop('index', axis = 1)"
   ]
  },
  {
   "cell_type": "code",
   "execution_count": 67,
   "metadata": {},
   "outputs": [
    {
     "data": {
      "text/plain": [
       "(38, 5)"
      ]
     },
     "execution_count": 67,
     "metadata": {},
     "output_type": "execute_result"
    }
   ],
   "source": [
    "se_df.shape"
   ]
  },
  {
   "cell_type": "code",
   "execution_count": 68,
   "metadata": {},
   "outputs": [
    {
     "data": {
      "text/html": [
       "<div>\n",
       "<style scoped>\n",
       "    .dataframe tbody tr th:only-of-type {\n",
       "        vertical-align: middle;\n",
       "    }\n",
       "\n",
       "    .dataframe tbody tr th {\n",
       "        vertical-align: top;\n",
       "    }\n",
       "\n",
       "    .dataframe thead th {\n",
       "        text-align: right;\n",
       "    }\n",
       "</style>\n",
       "<table border=\"1\" class=\"dataframe\">\n",
       "  <thead>\n",
       "    <tr style=\"text-align: right;\">\n",
       "      <th></th>\n",
       "      <th>Location</th>\n",
       "      <th>Borough</th>\n",
       "      <th>Postcode</th>\n",
       "      <th>Latitude</th>\n",
       "      <th>Longitude</th>\n",
       "    </tr>\n",
       "  </thead>\n",
       "  <tbody>\n",
       "    <tr>\n",
       "      <th>0</th>\n",
       "      <td>Crofton Park</td>\n",
       "      <td>Lewisham</td>\n",
       "      <td>SE4</td>\n",
       "      <td>51.46268</td>\n",
       "      <td>-0.03558</td>\n",
       "    </tr>\n",
       "    <tr>\n",
       "      <th>1</th>\n",
       "      <td>Denmark Hill</td>\n",
       "      <td>Southwark</td>\n",
       "      <td>SE5</td>\n",
       "      <td>51.47480</td>\n",
       "      <td>-0.09313</td>\n",
       "    </tr>\n",
       "    <tr>\n",
       "      <th>2</th>\n",
       "      <td>Deptford</td>\n",
       "      <td>Lewisham</td>\n",
       "      <td>SE8</td>\n",
       "      <td>51.48114</td>\n",
       "      <td>-0.02467</td>\n",
       "    </tr>\n",
       "    <tr>\n",
       "      <th>3</th>\n",
       "      <td>Dulwich</td>\n",
       "      <td>Southwark</td>\n",
       "      <td>SE21</td>\n",
       "      <td>51.44100</td>\n",
       "      <td>-0.08897</td>\n",
       "    </tr>\n",
       "    <tr>\n",
       "      <th>4</th>\n",
       "      <td>East Dulwich</td>\n",
       "      <td>Southwark</td>\n",
       "      <td>SE22</td>\n",
       "      <td>51.45256</td>\n",
       "      <td>-0.07076</td>\n",
       "    </tr>\n",
       "    <tr>\n",
       "      <th>5</th>\n",
       "      <td>Elephant and Castle</td>\n",
       "      <td>Southwark</td>\n",
       "      <td>SE1</td>\n",
       "      <td>51.49996</td>\n",
       "      <td>-0.09568</td>\n",
       "    </tr>\n",
       "    <tr>\n",
       "      <th>6</th>\n",
       "      <td>Bankside</td>\n",
       "      <td>Southwark</td>\n",
       "      <td>SE1</td>\n",
       "      <td>51.49996</td>\n",
       "      <td>-0.09568</td>\n",
       "    </tr>\n",
       "    <tr>\n",
       "      <th>7</th>\n",
       "      <td>Forest Hill</td>\n",
       "      <td>Lewisham</td>\n",
       "      <td>SE23</td>\n",
       "      <td>51.44122</td>\n",
       "      <td>-0.04764</td>\n",
       "    </tr>\n",
       "    <tr>\n",
       "      <th>8</th>\n",
       "      <td>Gipsy Hill</td>\n",
       "      <td>Lambeth</td>\n",
       "      <td>SE19</td>\n",
       "      <td>51.41990</td>\n",
       "      <td>-0.08808</td>\n",
       "    </tr>\n",
       "    <tr>\n",
       "      <th>9</th>\n",
       "      <td>Grove Park</td>\n",
       "      <td>Lewisham</td>\n",
       "      <td>SE12</td>\n",
       "      <td>51.44759</td>\n",
       "      <td>0.01350</td>\n",
       "    </tr>\n",
       "    <tr>\n",
       "      <th>10</th>\n",
       "      <td>Herne Hill</td>\n",
       "      <td>Lambeth</td>\n",
       "      <td>SE24</td>\n",
       "      <td>51.45529</td>\n",
       "      <td>-0.09928</td>\n",
       "    </tr>\n",
       "    <tr>\n",
       "      <th>11</th>\n",
       "      <td>Hither Green</td>\n",
       "      <td>Lewisham</td>\n",
       "      <td>SE13</td>\n",
       "      <td>51.46196</td>\n",
       "      <td>-0.00754</td>\n",
       "    </tr>\n",
       "    <tr>\n",
       "      <th>12</th>\n",
       "      <td>Honor Oak</td>\n",
       "      <td>Lewisham</td>\n",
       "      <td>SE23</td>\n",
       "      <td>51.44122</td>\n",
       "      <td>-0.04764</td>\n",
       "    </tr>\n",
       "    <tr>\n",
       "      <th>13</th>\n",
       "      <td>Ladywell</td>\n",
       "      <td>Lewisham</td>\n",
       "      <td>SE4</td>\n",
       "      <td>51.46268</td>\n",
       "      <td>-0.03558</td>\n",
       "    </tr>\n",
       "    <tr>\n",
       "      <th>14</th>\n",
       "      <td>Lambeth</td>\n",
       "      <td>Lambeth</td>\n",
       "      <td>SE1</td>\n",
       "      <td>51.49996</td>\n",
       "      <td>-0.09568</td>\n",
       "    </tr>\n",
       "    <tr>\n",
       "      <th>15</th>\n",
       "      <td>Lee</td>\n",
       "      <td>Lewisham</td>\n",
       "      <td>SE12</td>\n",
       "      <td>51.44759</td>\n",
       "      <td>0.01350</td>\n",
       "    </tr>\n",
       "    <tr>\n",
       "      <th>16</th>\n",
       "      <td>Lewisham</td>\n",
       "      <td>Lewisham</td>\n",
       "      <td>SE13</td>\n",
       "      <td>51.46196</td>\n",
       "      <td>-0.00754</td>\n",
       "    </tr>\n",
       "    <tr>\n",
       "      <th>17</th>\n",
       "      <td>New Cross</td>\n",
       "      <td>Lewisham</td>\n",
       "      <td>SE14</td>\n",
       "      <td>51.47489</td>\n",
       "      <td>-0.04038</td>\n",
       "    </tr>\n",
       "    <tr>\n",
       "      <th>18</th>\n",
       "      <td>Newington</td>\n",
       "      <td>Southwark</td>\n",
       "      <td>SE1</td>\n",
       "      <td>51.49996</td>\n",
       "      <td>-0.09568</td>\n",
       "    </tr>\n",
       "    <tr>\n",
       "      <th>19</th>\n",
       "      <td>Nunhead</td>\n",
       "      <td>Southwark</td>\n",
       "      <td>SE15</td>\n",
       "      <td>51.47218</td>\n",
       "      <td>-0.06779</td>\n",
       "    </tr>\n",
       "    <tr>\n",
       "      <th>20</th>\n",
       "      <td>Bellingham</td>\n",
       "      <td>Lewisham</td>\n",
       "      <td>SE6</td>\n",
       "      <td>51.43722</td>\n",
       "      <td>-0.01868</td>\n",
       "    </tr>\n",
       "    <tr>\n",
       "      <th>21</th>\n",
       "      <td>Peckham</td>\n",
       "      <td>Southwark</td>\n",
       "      <td>SE15</td>\n",
       "      <td>51.47218</td>\n",
       "      <td>-0.06779</td>\n",
       "    </tr>\n",
       "    <tr>\n",
       "      <th>22</th>\n",
       "      <td>Rotherhithe</td>\n",
       "      <td>Southwark</td>\n",
       "      <td>SE16</td>\n",
       "      <td>51.49574</td>\n",
       "      <td>-0.05157</td>\n",
       "    </tr>\n",
       "    <tr>\n",
       "      <th>23</th>\n",
       "      <td>Selhurst</td>\n",
       "      <td>Croydon</td>\n",
       "      <td>SE25</td>\n",
       "      <td>51.39925</td>\n",
       "      <td>-0.07414</td>\n",
       "    </tr>\n",
       "    <tr>\n",
       "      <th>24</th>\n",
       "      <td>Bermondsey</td>\n",
       "      <td>Southwark</td>\n",
       "      <td>SE1</td>\n",
       "      <td>51.49996</td>\n",
       "      <td>-0.09568</td>\n",
       "    </tr>\n",
       "    <tr>\n",
       "      <th>25</th>\n",
       "      <td>South Norwood</td>\n",
       "      <td>Croydon</td>\n",
       "      <td>SE25</td>\n",
       "      <td>51.39925</td>\n",
       "      <td>-0.07414</td>\n",
       "    </tr>\n",
       "    <tr>\n",
       "      <th>26</th>\n",
       "      <td>Southend</td>\n",
       "      <td>Lewisham</td>\n",
       "      <td>SE6</td>\n",
       "      <td>51.43722</td>\n",
       "      <td>-0.01868</td>\n",
       "    </tr>\n",
       "    <tr>\n",
       "      <th>27</th>\n",
       "      <td>St Johns</td>\n",
       "      <td>Lewisham</td>\n",
       "      <td>SE4</td>\n",
       "      <td>51.46268</td>\n",
       "      <td>-0.03558</td>\n",
       "    </tr>\n",
       "    <tr>\n",
       "      <th>28</th>\n",
       "      <td>Surrey Quays</td>\n",
       "      <td>Southwark</td>\n",
       "      <td>SE16</td>\n",
       "      <td>51.49574</td>\n",
       "      <td>-0.05157</td>\n",
       "    </tr>\n",
       "    <tr>\n",
       "      <th>29</th>\n",
       "      <td>Tulse Hill</td>\n",
       "      <td>Lambeth</td>\n",
       "      <td>SE24</td>\n",
       "      <td>51.45529</td>\n",
       "      <td>-0.09928</td>\n",
       "    </tr>\n",
       "    <tr>\n",
       "      <th>30</th>\n",
       "      <td>Upper Norwood</td>\n",
       "      <td>Croydon</td>\n",
       "      <td>SE19</td>\n",
       "      <td>51.41990</td>\n",
       "      <td>-0.08808</td>\n",
       "    </tr>\n",
       "    <tr>\n",
       "      <th>31</th>\n",
       "      <td>Walworth</td>\n",
       "      <td>Southwark</td>\n",
       "      <td>SE17</td>\n",
       "      <td>51.48764</td>\n",
       "      <td>-0.09542</td>\n",
       "    </tr>\n",
       "    <tr>\n",
       "      <th>32</th>\n",
       "      <td>Blackheath</td>\n",
       "      <td>Lewisham</td>\n",
       "      <td>SE3</td>\n",
       "      <td>51.47138</td>\n",
       "      <td>0.02338</td>\n",
       "    </tr>\n",
       "    <tr>\n",
       "      <th>33</th>\n",
       "      <td>West Norwood</td>\n",
       "      <td>Lambeth</td>\n",
       "      <td>SE27</td>\n",
       "      <td>51.43407</td>\n",
       "      <td>-0.10375</td>\n",
       "    </tr>\n",
       "    <tr>\n",
       "      <th>34</th>\n",
       "      <td>Brockley</td>\n",
       "      <td>Lewisham</td>\n",
       "      <td>SE4</td>\n",
       "      <td>51.46268</td>\n",
       "      <td>-0.03558</td>\n",
       "    </tr>\n",
       "    <tr>\n",
       "      <th>35</th>\n",
       "      <td>Camberwell</td>\n",
       "      <td>Southwark</td>\n",
       "      <td>SE5</td>\n",
       "      <td>51.47480</td>\n",
       "      <td>-0.09313</td>\n",
       "    </tr>\n",
       "    <tr>\n",
       "      <th>36</th>\n",
       "      <td>Catford</td>\n",
       "      <td>Lewisham</td>\n",
       "      <td>SE6</td>\n",
       "      <td>51.43722</td>\n",
       "      <td>-0.01868</td>\n",
       "    </tr>\n",
       "    <tr>\n",
       "      <th>37</th>\n",
       "      <td>Chinbrook</td>\n",
       "      <td>Lewisham</td>\n",
       "      <td>SE12</td>\n",
       "      <td>51.44759</td>\n",
       "      <td>0.01350</td>\n",
       "    </tr>\n",
       "  </tbody>\n",
       "</table>\n",
       "</div>"
      ],
      "text/plain": [
       "               Location    Borough Postcode  Latitude  Longitude\n",
       "0          Crofton Park   Lewisham      SE4  51.46268   -0.03558\n",
       "1          Denmark Hill  Southwark      SE5  51.47480   -0.09313\n",
       "2              Deptford   Lewisham      SE8  51.48114   -0.02467\n",
       "3               Dulwich  Southwark     SE21  51.44100   -0.08897\n",
       "4          East Dulwich  Southwark     SE22  51.45256   -0.07076\n",
       "5   Elephant and Castle  Southwark      SE1  51.49996   -0.09568\n",
       "6              Bankside  Southwark      SE1  51.49996   -0.09568\n",
       "7           Forest Hill   Lewisham     SE23  51.44122   -0.04764\n",
       "8            Gipsy Hill    Lambeth     SE19  51.41990   -0.08808\n",
       "9            Grove Park   Lewisham     SE12  51.44759    0.01350\n",
       "10           Herne Hill    Lambeth     SE24  51.45529   -0.09928\n",
       "11         Hither Green   Lewisham     SE13  51.46196   -0.00754\n",
       "12            Honor Oak   Lewisham     SE23  51.44122   -0.04764\n",
       "13             Ladywell   Lewisham      SE4  51.46268   -0.03558\n",
       "14              Lambeth    Lambeth      SE1  51.49996   -0.09568\n",
       "15                  Lee   Lewisham     SE12  51.44759    0.01350\n",
       "16             Lewisham   Lewisham     SE13  51.46196   -0.00754\n",
       "17            New Cross   Lewisham     SE14  51.47489   -0.04038\n",
       "18            Newington  Southwark      SE1  51.49996   -0.09568\n",
       "19              Nunhead  Southwark     SE15  51.47218   -0.06779\n",
       "20           Bellingham   Lewisham      SE6  51.43722   -0.01868\n",
       "21              Peckham  Southwark     SE15  51.47218   -0.06779\n",
       "22          Rotherhithe  Southwark     SE16  51.49574   -0.05157\n",
       "23             Selhurst    Croydon     SE25  51.39925   -0.07414\n",
       "24           Bermondsey  Southwark      SE1  51.49996   -0.09568\n",
       "25        South Norwood    Croydon     SE25  51.39925   -0.07414\n",
       "26             Southend   Lewisham      SE6  51.43722   -0.01868\n",
       "27             St Johns   Lewisham      SE4  51.46268   -0.03558\n",
       "28         Surrey Quays  Southwark     SE16  51.49574   -0.05157\n",
       "29           Tulse Hill    Lambeth     SE24  51.45529   -0.09928\n",
       "30        Upper Norwood    Croydon     SE19  51.41990   -0.08808\n",
       "31             Walworth  Southwark     SE17  51.48764   -0.09542\n",
       "32           Blackheath   Lewisham      SE3  51.47138    0.02338\n",
       "33         West Norwood    Lambeth     SE27  51.43407   -0.10375\n",
       "34             Brockley   Lewisham      SE4  51.46268   -0.03558\n",
       "35           Camberwell  Southwark      SE5  51.47480   -0.09313\n",
       "36              Catford   Lewisham      SE6  51.43722   -0.01868\n",
       "37            Chinbrook   Lewisham     SE12  51.44759    0.01350"
      ]
     },
     "execution_count": 68,
     "metadata": {},
     "output_type": "execute_result"
    }
   ],
   "source": [
    "se_df"
   ]
  },
  {
   "cell_type": "code",
   "execution_count": 69,
   "metadata": {},
   "outputs": [
    {
     "data": {
      "text/html": [
       "<div>\n",
       "<style scoped>\n",
       "    .dataframe tbody tr th:only-of-type {\n",
       "        vertical-align: middle;\n",
       "    }\n",
       "\n",
       "    .dataframe tbody tr th {\n",
       "        vertical-align: top;\n",
       "    }\n",
       "\n",
       "    .dataframe thead th {\n",
       "        text-align: right;\n",
       "    }\n",
       "</style>\n",
       "<table border=\"1\" class=\"dataframe\">\n",
       "  <thead>\n",
       "    <tr style=\"text-align: right;\">\n",
       "      <th></th>\n",
       "      <th>Location</th>\n",
       "      <th>Borough</th>\n",
       "      <th>Postcode</th>\n",
       "      <th>Latitude</th>\n",
       "      <th>Longitude</th>\n",
       "    </tr>\n",
       "  </thead>\n",
       "  <tbody>\n",
       "    <tr>\n",
       "      <th>16</th>\n",
       "      <td>Lewisham</td>\n",
       "      <td>Lewisham</td>\n",
       "      <td>SE13</td>\n",
       "      <td>51.46196</td>\n",
       "      <td>-0.00754</td>\n",
       "    </tr>\n",
       "  </tbody>\n",
       "</table>\n",
       "</div>"
      ],
      "text/plain": [
       "    Location   Borough Postcode  Latitude  Longitude\n",
       "16  Lewisham  Lewisham     SE13  51.46196   -0.00754"
      ]
     },
     "execution_count": 69,
     "metadata": {},
     "output_type": "execute_result"
    }
   ],
   "source": [
    "se_df.loc[se_df['Location'] == 'Lewisham']"
   ]
  },
  {
   "cell_type": "code",
   "execution_count": 70,
   "metadata": {},
   "outputs": [
    {
     "data": {
      "text/plain": [
       "'Bellingham'"
      ]
     },
     "execution_count": 70,
     "metadata": {},
     "output_type": "execute_result"
    }
   ],
   "source": [
    "se_df.loc[20, 'Location']"
   ]
  },
  {
   "cell_type": "code",
   "execution_count": 71,
   "metadata": {},
   "outputs": [
    {
     "name": "stdout",
     "output_type": "stream",
     "text": [
      "The latitude and longitude values of Bellingham with postcode SE6, are 51.43722000000008, -0.018679999999960728.\n"
     ]
    }
   ],
   "source": [
    "lewisham_lat = se_df.loc[20, 'Latitude']\n",
    "lewisham_long = se_df.loc[20, 'Longitude']\n",
    "lewisham_loc = se_df.loc[20, 'Location']\n",
    "lewisham_postcode = se_df.loc[20, 'Postcode']\n",
    "\n",
    "print('The latitude and longitude values of {} with postcode {}, are {}, {}.'.format(lewisham_loc,\n",
    "                                                                                         lewisham_postcode,\n",
    "                                                                                         lewisham_lat,\n",
    "                                                                                         lewisham_long))"
   ]
  },
  {
   "cell_type": "code",
   "execution_count": 72,
   "metadata": {},
   "outputs": [],
   "source": [
    "# function that extracts the category of the venue\n",
    "def get_category_type(row):\n",
    "    try:\n",
    "        categories_list = row['categories']\n",
    "    except:\n",
    "        categories_list = row['venue.categories']\n",
    "        \n",
    "    if len(categories_list) == 0:\n",
    "        return None\n",
    "    else:\n",
    "        return categories_list[0]['name']"
   ]
  },
  {
   "cell_type": "markdown",
   "metadata": {},
   "source": [
    "#### 3.a.2) Multiple Neighbourhoods"
   ]
  },
  {
   "cell_type": "markdown",
   "metadata": {},
   "source": [
    "Now let's explore (Multiple) Neighborhoods in the South East London area. To do this, the function getNearbyVenues is used and it's created to repeat the same process for all neighborhoods."
   ]
  },
  {
   "cell_type": "code",
   "execution_count": 73,
   "metadata": {},
   "outputs": [
    {
     "name": "stdout",
     "output_type": "stream",
     "text": [
      "The geograpical coordinate of London are 51.5073219, -0.1276474.\n"
     ]
    }
   ],
   "source": [
    "address = 'London, United Kingdom'\n",
    "\n",
    "geolocator = Nominatim(user_agent=\"ln_explorer\")\n",
    "location = geolocator.geocode(address)\n",
    "latitude = location.latitude\n",
    "longitude = location.longitude\n",
    "print('The geograpical coordinate of London are {}, {}.'.format(latitude, longitude))"
   ]
  },
  {
   "cell_type": "code",
   "execution_count": 74,
   "metadata": {},
   "outputs": [
    {
     "data": {
      "text/html": [
       "<div style=\"width:100%;\"><div style=\"position:relative;width:100%;height:0;padding-bottom:60%;\"><iframe src=\"about:blank\" style=\"position:absolute;width:100%;height:100%;left:0;top:0;border:none !important;\" data-html=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 onload=\"this.contentDocument.open();this.contentDocument.write(atob(this.getAttribute('data-html')));this.contentDocument.close();\" allowfullscreen webkitallowfullscreen mozallowfullscreen></iframe></div></div>"
      ],
      "text/plain": [
       "<folium.folium.Map at 0x7f0b4cd70e80>"
      ]
     },
     "execution_count": 74,
     "metadata": {},
     "output_type": "execute_result"
    }
   ],
   "source": [
    "# df_london_coordinates\n",
    "map_london = folium.Map(location = [latitude, longitude], zoom_start = 12)\n",
    "map_london"
   ]
  },
  {
   "cell_type": "code",
   "execution_count": 75,
   "metadata": {},
   "outputs": [
    {
     "data": {
      "text/html": [
       "<div style=\"width:100%;\"><div style=\"position:relative;width:100%;height:0;padding-bottom:60%;\"><iframe src=\"about:blank\" style=\"position:absolute;width:100%;height:100%;left:0;top:0;border:none !important;\" data-html=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 onload=\"this.contentDocument.open();this.contentDocument.write(atob(this.getAttribute('data-html')));this.contentDocument.close();\" allowfullscreen webkitallowfullscreen mozallowfullscreen></iframe></div></div>"
      ],
      "text/plain": [
       "<folium.folium.Map at 0x7f0b4cd70e80>"
      ]
     },
     "metadata": {},
     "output_type": "display_data"
    }
   ],
   "source": [
    "# Adding markers to map\n",
    "for lat, lng, borough, loc in zip(se_df['Latitude'], \n",
    "                                  se_df['Longitude'],\n",
    "                                  se_df['Borough'],\n",
    "                                  se_df['Location']):\n",
    "    label = '{} - {}'.format(loc, borough)\n",
    "    label = folium.Popup(label, parse_html=True)\n",
    "    folium.CircleMarker(\n",
    "        [lat, lng],\n",
    "        radius=5,\n",
    "        popup=label,\n",
    "        color='blue',\n",
    "        fill=True,\n",
    "        fill_color='#3186cc',\n",
    "        fill_opacity=0.7).add_to(map_london)  \n",
    "    \n",
    "display(map_london)"
   ]
  },
  {
   "cell_type": "code",
   "execution_count": 76,
   "metadata": {},
   "outputs": [
    {
     "data": {
      "text/plain": [
       "pandas.core.frame.DataFrame"
      ]
     },
     "execution_count": 76,
     "metadata": {},
     "output_type": "execute_result"
    }
   ],
   "source": [
    "type(se_df)"
   ]
  },
  {
   "cell_type": "code",
   "execution_count": 77,
   "metadata": {},
   "outputs": [],
   "source": [
    "%matplotlib inline\n",
    "import matplotlib\n",
    "import numpy as np"
   ]
  },
  {
   "cell_type": "markdown",
   "metadata": {},
   "source": [
    "To get the optimal number of clusters to be used for the K-mean, there are a number ways possible for the evaluation. Therefore, in this task, the following are used:\n",
    "\n",
    "Elbow (Criterion) Method 2. Silhouette Coefficient ### 1. Elbow Method\n",
    "The elbow method is used to solve the problem of selecting k. Interestingly, the elbow method is not perfect either but it gives significant insight that is perhaps not top optimal but sub-optimal to choosing the optimal number of clusters by fitting the model with a range of values for k.\n",
    "\n",
    "The approach for this is to run the k-means clustering for a range of value k and for each value of k, the Sum of the Squared Errors (SSE) is calculated., calculate sum of squared errors (SSE). When this is done, a plot of k and the corresponding SSEs are then made. At the elbow (just like arm), that is where the optimal value of k is. And that will be the number of clusters to be used. The whole idea is to have minimum SSE."
   ]
  },
  {
   "cell_type": "code",
   "execution_count": null,
   "metadata": {},
   "outputs": [],
   "source": []
  }
 ],
 "metadata": {
  "kernelspec": {
   "display_name": "Python 3.6",
   "language": "python",
   "name": "python3"
  },
  "language_info": {
   "codemirror_mode": {
    "name": "ipython",
    "version": 3
   },
   "file_extension": ".py",
   "mimetype": "text/x-python",
   "name": "python",
   "nbconvert_exporter": "python",
   "pygments_lexer": "ipython3",
   "version": "3.6.9"
  }
 },
 "nbformat": 4,
 "nbformat_minor": 1
}
